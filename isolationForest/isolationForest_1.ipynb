{
 "cells": [
  {
   "cell_type": "markdown",
   "id": "gross-plaza",
   "metadata": {},
   "source": [
    "# 孤立森林"
   ]
  },
  {
   "cell_type": "markdown",
   "id": "bacterial-status",
   "metadata": {},
   "source": [
    "### data1数据"
   ]
  },
  {
   "cell_type": "code",
   "execution_count": 32,
   "id": "purple-cruise",
   "metadata": {},
   "outputs": [],
   "source": [
    "import pandas as pd\n",
    "import numpy as np\n",
    "from sklearn.ensemble import IsolationForest\n",
    "import matplotlib.pyplot as plt\n",
    "from scipy import stats\n",
    "from sklearn.preprocessing import MinMaxScaler"
   ]
  },
  {
   "cell_type": "markdown",
   "id": "modular-pierre",
   "metadata": {},
   "source": [
    "### 读取文件"
   ]
  },
  {
   "cell_type": "code",
   "execution_count": 33,
   "id": "advanced-brown",
   "metadata": {},
   "outputs": [],
   "source": [
    "dataset = pd.read_csv('data/data1.csv',engine='python')"
   ]
  },
  {
   "cell_type": "code",
   "execution_count": 34,
   "id": "iraqi-scope",
   "metadata": {},
   "outputs": [
    {
     "data": {
      "text/html": [
       "<div>\n",
       "<style scoped>\n",
       "    .dataframe tbody tr th:only-of-type {\n",
       "        vertical-align: middle;\n",
       "    }\n",
       "\n",
       "    .dataframe tbody tr th {\n",
       "        vertical-align: top;\n",
       "    }\n",
       "\n",
       "    .dataframe thead th {\n",
       "        text-align: right;\n",
       "    }\n",
       "</style>\n",
       "<table border=\"1\" class=\"dataframe\">\n",
       "  <thead>\n",
       "    <tr style=\"text-align: right;\">\n",
       "      <th></th>\n",
       "      <th>35KV 1# 主变用电量</th>\n",
       "      <th>data</th>\n",
       "    </tr>\n",
       "  </thead>\n",
       "  <tbody>\n",
       "    <tr>\n",
       "      <th>0</th>\n",
       "      <td>90476192</td>\n",
       "      <td>NaN</td>\n",
       "    </tr>\n",
       "    <tr>\n",
       "      <th>1</th>\n",
       "      <td>1372980</td>\n",
       "      <td>-89103212.0</td>\n",
       "    </tr>\n",
       "    <tr>\n",
       "      <th>2</th>\n",
       "      <td>90476400</td>\n",
       "      <td>89103420.0</td>\n",
       "    </tr>\n",
       "    <tr>\n",
       "      <th>3</th>\n",
       "      <td>1372980</td>\n",
       "      <td>-89103420.0</td>\n",
       "    </tr>\n",
       "    <tr>\n",
       "      <th>4</th>\n",
       "      <td>90476616</td>\n",
       "      <td>89103636.0</td>\n",
       "    </tr>\n",
       "    <tr>\n",
       "      <th>...</th>\n",
       "      <td>...</td>\n",
       "      <td>...</td>\n",
       "    </tr>\n",
       "    <tr>\n",
       "      <th>145</th>\n",
       "      <td>1373260</td>\n",
       "      <td>-89118364.0</td>\n",
       "    </tr>\n",
       "    <tr>\n",
       "      <th>146</th>\n",
       "      <td>90491832</td>\n",
       "      <td>89118572.0</td>\n",
       "    </tr>\n",
       "    <tr>\n",
       "      <th>147</th>\n",
       "      <td>1373260</td>\n",
       "      <td>-89118572.0</td>\n",
       "    </tr>\n",
       "    <tr>\n",
       "      <th>148</th>\n",
       "      <td>90492048</td>\n",
       "      <td>89118788.0</td>\n",
       "    </tr>\n",
       "    <tr>\n",
       "      <th>149</th>\n",
       "      <td>90492144</td>\n",
       "      <td>96.0</td>\n",
       "    </tr>\n",
       "  </tbody>\n",
       "</table>\n",
       "<p>150 rows × 2 columns</p>\n",
       "</div>"
      ],
      "text/plain": [
       "     35KV 1# 主变用电量        data\n",
       "0         90476192         NaN\n",
       "1          1372980 -89103212.0\n",
       "2         90476400  89103420.0\n",
       "3          1372980 -89103420.0\n",
       "4         90476616  89103636.0\n",
       "..             ...         ...\n",
       "145        1373260 -89118364.0\n",
       "146       90491832  89118572.0\n",
       "147        1373260 -89118572.0\n",
       "148       90492048  89118788.0\n",
       "149       90492144        96.0\n",
       "\n",
       "[150 rows x 2 columns]"
      ]
     },
     "execution_count": 34,
     "metadata": {},
     "output_type": "execute_result"
    }
   ],
   "source": [
    "dataset"
   ]
  },
  {
   "cell_type": "markdown",
   "id": "upset-looking",
   "metadata": {},
   "source": [
    "### 数据清洗"
   ]
  },
  {
   "cell_type": "code",
   "execution_count": 35,
   "id": "upset-weapon",
   "metadata": {},
   "outputs": [
    {
     "data": {
      "text/html": [
       "<div>\n",
       "<style scoped>\n",
       "    .dataframe tbody tr th:only-of-type {\n",
       "        vertical-align: middle;\n",
       "    }\n",
       "\n",
       "    .dataframe tbody tr th {\n",
       "        vertical-align: top;\n",
       "    }\n",
       "\n",
       "    .dataframe thead th {\n",
       "        text-align: right;\n",
       "    }\n",
       "</style>\n",
       "<table border=\"1\" class=\"dataframe\">\n",
       "  <thead>\n",
       "    <tr style=\"text-align: right;\">\n",
       "      <th></th>\n",
       "      <th>35KV 1# 主变用电量</th>\n",
       "      <th>data</th>\n",
       "    </tr>\n",
       "  </thead>\n",
       "  <tbody>\n",
       "    <tr>\n",
       "      <th>0</th>\n",
       "      <td>90476192</td>\n",
       "      <td>0.0</td>\n",
       "    </tr>\n",
       "    <tr>\n",
       "      <th>1</th>\n",
       "      <td>1372980</td>\n",
       "      <td>-89103212.0</td>\n",
       "    </tr>\n",
       "    <tr>\n",
       "      <th>2</th>\n",
       "      <td>90476400</td>\n",
       "      <td>89103420.0</td>\n",
       "    </tr>\n",
       "    <tr>\n",
       "      <th>3</th>\n",
       "      <td>1372980</td>\n",
       "      <td>-89103420.0</td>\n",
       "    </tr>\n",
       "    <tr>\n",
       "      <th>4</th>\n",
       "      <td>90476616</td>\n",
       "      <td>89103636.0</td>\n",
       "    </tr>\n",
       "    <tr>\n",
       "      <th>...</th>\n",
       "      <td>...</td>\n",
       "      <td>...</td>\n",
       "    </tr>\n",
       "    <tr>\n",
       "      <th>145</th>\n",
       "      <td>1373260</td>\n",
       "      <td>-89118364.0</td>\n",
       "    </tr>\n",
       "    <tr>\n",
       "      <th>146</th>\n",
       "      <td>90491832</td>\n",
       "      <td>89118572.0</td>\n",
       "    </tr>\n",
       "    <tr>\n",
       "      <th>147</th>\n",
       "      <td>1373260</td>\n",
       "      <td>-89118572.0</td>\n",
       "    </tr>\n",
       "    <tr>\n",
       "      <th>148</th>\n",
       "      <td>90492048</td>\n",
       "      <td>89118788.0</td>\n",
       "    </tr>\n",
       "    <tr>\n",
       "      <th>149</th>\n",
       "      <td>90492144</td>\n",
       "      <td>96.0</td>\n",
       "    </tr>\n",
       "  </tbody>\n",
       "</table>\n",
       "<p>150 rows × 2 columns</p>\n",
       "</div>"
      ],
      "text/plain": [
       "     35KV 1# 主变用电量        data\n",
       "0         90476192         0.0\n",
       "1          1372980 -89103212.0\n",
       "2         90476400  89103420.0\n",
       "3          1372980 -89103420.0\n",
       "4         90476616  89103636.0\n",
       "..             ...         ...\n",
       "145        1373260 -89118364.0\n",
       "146       90491832  89118572.0\n",
       "147        1373260 -89118572.0\n",
       "148       90492048  89118788.0\n",
       "149       90492144        96.0\n",
       "\n",
       "[150 rows x 2 columns]"
      ]
     },
     "execution_count": 35,
     "metadata": {},
     "output_type": "execute_result"
    }
   ],
   "source": [
    "dataset = dataset.fillna(0)\n",
    "dataset"
   ]
  },
  {
   "cell_type": "markdown",
   "id": "interim-fleet",
   "metadata": {},
   "source": [
    "### 绘制初始数据"
   ]
  },
  {
   "cell_type": "code",
   "execution_count": 36,
   "id": "superior-surveillance",
   "metadata": {},
   "outputs": [
    {
     "data": {
      "text/plain": [
       "[<matplotlib.lines.Line2D at 0x7f96a661d910>]"
      ]
     },
     "execution_count": 36,
     "metadata": {},
     "output_type": "execute_result"
    },
    {
     "data": {
      "image/png": "[encoded data removed]",
      "text/plain": [
       "<Figure size 432x288 with 1 Axes>"
      ]
     },
     "metadata": {
      "needs_background": "light"
     },
     "output_type": "display_data"
    }
   ],
   "source": [
    "plt.plot(list(range(0,150)),dataset[\"data\"],marker='o',markerfacecolor=\"r\")"
   ]
  },
  {
   "cell_type": "markdown",
   "id": "crude-climb",
   "metadata": {},
   "source": [
    "### 设置变量值"
   ]
  },
  {
   "cell_type": "code",
   "execution_count": 37,
   "id": "spread-admission",
   "metadata": {},
   "outputs": [],
   "source": [
    "#set variable\n",
    "rs = np.random.RandomState(169)\n",
    "lendata = dataset.shape[0]\n",
    "outliers_fraction = 0.015\n",
    "test_data = []\n",
    "anomaly = []"
   ]
  },
  {
   "cell_type": "code",
   "execution_count": 38,
   "id": "mineral-metro",
   "metadata": {},
   "outputs": [
    {
     "data": {
      "text/plain": [
       "(150, 2)"
      ]
     },
     "execution_count": 38,
     "metadata": {},
     "output_type": "execute_result"
    }
   ],
   "source": [
    "dataset.shape"
   ]
  },
  {
   "cell_type": "code",
   "execution_count": 39,
   "id": "individual-reality",
   "metadata": {},
   "outputs": [
    {
     "data": {
      "text/plain": [
       "0             0.0\n",
       "1     -89103212.0\n",
       "2      89103420.0\n",
       "3     -89103420.0\n",
       "4      89103636.0\n",
       "          ...    \n",
       "145   -89118364.0\n",
       "146    89118572.0\n",
       "147   -89118572.0\n",
       "148    89118788.0\n",
       "149          96.0\n",
       "Name: data, Length: 150, dtype: float64"
      ]
     },
     "execution_count": 39,
     "metadata": {},
     "output_type": "execute_result"
    }
   ],
   "source": [
    "dataset[\"data\"]"
   ]
  },
  {
   "cell_type": "markdown",
   "id": "mediterranean-mathematics",
   "metadata": {},
   "source": [
    "### 数据归一化"
   ]
  },
  {
   "cell_type": "code",
   "execution_count": 40,
   "id": "received-johnston",
   "metadata": {},
   "outputs": [],
   "source": [
    "def normalize(dataset,a,b):\n",
    "    scaler = MinMaxScaler(feature_range=(a, b))\n",
    "    normalize_data = scaler.fit_transform(dataset)\n",
    "    return normalize_data"
   ]
  },
  {
   "cell_type": "code",
   "execution_count": 41,
   "id": "requested-combining",
   "metadata": {},
   "outputs": [],
   "source": [
    "#read dataset x,y\n",
    "x = normalize(pd.DataFrame(dataset, columns=[\"data\"]),-1,1)"
   ]
  },
  {
   "cell_type": "code",
   "execution_count": 42,
   "id": "recognized-accessory",
   "metadata": {},
   "outputs": [
    {
     "data": {
      "text/plain": [
       "array([[-1.21186714e-06],\n",
       "       [-9.99827646e-01],\n",
       "       [ 9.99827556e-01],\n",
       "       [-9.99829980e-01],\n",
       "       [ 9.99829980e-01],\n",
       "       [-9.99832403e-01],\n",
       "       [ 9.99832224e-01],\n",
       "       [-9.99834647e-01],\n",
       "       [ 9.99834647e-01],\n",
       "       [-9.99837071e-01],\n",
       "       [ 9.99836981e-01],\n",
       "       [-9.99839405e-01],\n",
       "       [ 9.99839405e-01],\n",
       "       [-9.99841829e-01],\n",
       "       [ 9.99841649e-01],\n",
       "       [-9.99844073e-01],\n",
       "       [ 9.99844073e-01],\n",
       "       [-9.99846497e-01],\n",
       "       [ 9.99846407e-01],\n",
       "       [-9.99848831e-01],\n",
       "       [ 9.99848831e-01],\n",
       "       [-9.99851255e-01],\n",
       "       [ 9.99851075e-01],\n",
       "       [-9.99853499e-01],\n",
       "       [ 9.99852242e-01],\n",
       "       [-9.99854666e-01],\n",
       "       [ 9.99854666e-01],\n",
       "       [-9.99857089e-01],\n",
       "       [ 9.99857000e-01],\n",
       "       [-9.99859423e-01],\n",
       "       [ 9.99859423e-01],\n",
       "       [-9.99861847e-01],\n",
       "       [ 9.99861668e-01],\n",
       "       [-9.99864091e-01],\n",
       "       [ 9.99864091e-01],\n",
       "       [-9.99866515e-01],\n",
       "       [ 9.99866425e-01],\n",
       "       [-9.99868849e-01],\n",
       "       [ 9.99868849e-01],\n",
       "       [-9.99871273e-01],\n",
       "       [ 9.99871183e-01],\n",
       "       [-9.99873607e-01],\n",
       "       [ 9.99873517e-01],\n",
       "       [-9.99875941e-01],\n",
       "       [ 9.99875851e-01],\n",
       "       [-9.99876704e-01],\n",
       "       [ 9.99876704e-01],\n",
       "       [-9.99879127e-01],\n",
       "       [ 9.99879038e-01],\n",
       "       [-9.99881461e-01],\n",
       "       [ 9.99882539e-01],\n",
       "       [-9.99884962e-01],\n",
       "       [ 9.99884873e-01],\n",
       "       [-9.99887296e-01],\n",
       "       [ 9.99887296e-01],\n",
       "       [-9.99889720e-01],\n",
       "       [ 9.99890708e-01],\n",
       "       [-9.99893131e-01],\n",
       "       [ 9.99891964e-01],\n",
       "       [-9.99894388e-01],\n",
       "       [ 9.99894298e-01],\n",
       "       [-9.99896722e-01],\n",
       "       [ 9.99896722e-01],\n",
       "       [-9.99899146e-01],\n",
       "       [ 9.99899056e-01],\n",
       "       [-9.99901480e-01],\n",
       "       [ 9.99901480e-01],\n",
       "       [-9.99903903e-01],\n",
       "       [ 9.99903724e-01],\n",
       "       [-9.99906148e-01],\n",
       "       [ 9.99907315e-01],\n",
       "       [-9.99909738e-01],\n",
       "       [ 9.99908482e-01],\n",
       "       [-9.99910905e-01],\n",
       "       [ 9.99910726e-01],\n",
       "       [-9.99913150e-01],\n",
       "       [ 9.99913150e-01],\n",
       "       [-9.99915573e-01],\n",
       "       [ 9.99915483e-01],\n",
       "       [-9.99917907e-01],\n",
       "       [ 9.99917907e-01],\n",
       "       [-9.99920331e-01],\n",
       "       [ 9.99920151e-01],\n",
       "       [-9.99922575e-01],\n",
       "       [ 9.99923742e-01],\n",
       "       [-9.99926166e-01],\n",
       "       [ 9.99924909e-01],\n",
       "       [-9.99927333e-01],\n",
       "       [ 9.99928500e-01],\n",
       "       [-9.99930924e-01],\n",
       "       [ 9.99929667e-01],\n",
       "       [-9.99932091e-01],\n",
       "       [ 9.99932091e-01],\n",
       "       [-9.99934514e-01],\n",
       "       [ 9.99935592e-01],\n",
       "       [-9.99938015e-01],\n",
       "       [ 9.99937925e-01],\n",
       "       [-9.99940349e-01],\n",
       "       [ 9.99939092e-01],\n",
       "       [-9.99941516e-01],\n",
       "       [ 9.99941516e-01],\n",
       "       [-9.99943940e-01],\n",
       "       [ 9.99944927e-01],\n",
       "       [ 4.48839682e-08],\n",
       "       [-9.99948608e-01],\n",
       "       [ 9.99948518e-01],\n",
       "       [-9.99950942e-01],\n",
       "       [ 9.99950942e-01],\n",
       "       [-9.99953366e-01],\n",
       "       [ 9.99953186e-01],\n",
       "       [-9.99955610e-01],\n",
       "       [ 9.99955610e-01],\n",
       "       [-9.99958033e-01],\n",
       "       [ 9.99957944e-01],\n",
       "       [-9.99960367e-01],\n",
       "       [ 9.99960367e-01],\n",
       "       [-9.99962791e-01],\n",
       "       [ 9.99963779e-01],\n",
       "       [-9.99966202e-01],\n",
       "       [ 9.99965035e-01],\n",
       "       [-9.99967459e-01],\n",
       "       [ 9.99968536e-01],\n",
       "       [-9.99970960e-01],\n",
       "       [ 9.99969703e-01],\n",
       "       [-9.99970556e-01],\n",
       "       [ 9.99970556e-01],\n",
       "       [-9.99972980e-01],\n",
       "       [ 9.99972800e-01],\n",
       "       [-9.99975224e-01],\n",
       "       [ 9.99976391e-01],\n",
       "       [-9.99978815e-01],\n",
       "       [ 9.99977558e-01],\n",
       "       [-9.99979982e-01],\n",
       "       [ 9.99981059e-01],\n",
       "       [ 1.21186714e-06],\n",
       "       [-9.99985906e-01],\n",
       "       [ 9.99984650e-01],\n",
       "       [-9.99987073e-01],\n",
       "       [ 9.99986984e-01],\n",
       "       [-9.99989407e-01],\n",
       "       [ 9.99990574e-01],\n",
       "       [-9.99992998e-01],\n",
       "       [ 9.99992908e-01],\n",
       "       [-9.99995332e-01],\n",
       "       [ 9.99995242e-01],\n",
       "       [-9.99997666e-01],\n",
       "       [ 9.99997576e-01],\n",
       "       [-1.00000000e+00],\n",
       "       [ 1.00000000e+00],\n",
       "       [-1.34651905e-07]])"
      ]
     },
     "execution_count": 42,
     "metadata": {},
     "output_type": "execute_result"
    }
   ],
   "source": [
    "x"
   ]
  },
  {
   "cell_type": "markdown",
   "id": "weekly-township",
   "metadata": {},
   "source": [
    "### 引入IsolationForest"
   ]
  },
  {
   "cell_type": "code",
   "execution_count": 43,
   "id": "emerging-brush",
   "metadata": {},
   "outputs": [],
   "source": [
    "ifm = IsolationForest(n_estimators=100,verbose=2,n_jobs=2,max_samples=lendata,random_state=rs,max_features=1)"
   ]
  },
  {
   "cell_type": "code",
   "execution_count": 44,
   "id": "cardiovascular-intro",
   "metadata": {},
   "outputs": [
    {
     "name": "stdout",
     "output_type": "stream",
     "text": [
      "Building estimator 1 of 50 for this parallel run (total 100)...Building estimator 1 of 50 for this parallel run (total 100)...\n",
      "\n",
      "Building estimator 2 of 50 for this parallel run (total 100)...Building estimator 2 of 50 for this parallel run (total 100)...\n",
      "\n",
      "Building estimator 3 of 50 for this parallel run (total 100)...Building estimator 3 of 50 for this parallel run (total 100)...\n",
      "\n",
      "Building estimator 4 of 50 for this parallel run (total 100)...Building estimator 4 of 50 for this parallel run (total 100)...\n",
      "\n",
      "Building estimator 5 of 50 for this parallel run (total 100)...Building estimator 5 of 50 for this parallel run (total 100)...\n",
      "\n",
      "Building estimator 6 of 50 for this parallel run (total 100)...Building estimator 6 of 50 for this parallel run (total 100)...\n",
      "\n",
      "Building estimator 7 of 50 for this parallel run (total 100)...Building estimator 7 of 50 for this parallel run (total 100)...\n",
      "\n",
      "Building estimator 8 of 50 for this parallel run (total 100)...Building estimator 8 of 50 for this parallel run (total 100)...\n",
      "\n",
      "Building estimator 9 of 50 for this parallel run (total 100)...Building estimator 9 of 50 for this parallel run (total 100)...\n",
      "\n",
      "Building estimator 10 of 50 for this parallel run (total 100)...Building estimator 10 of 50 for this parallel run (total 100)...\n",
      "\n",
      "Building estimator 11 of 50 for this parallel run (total 100)...Building estimator 11 of 50 for this parallel run (total 100)...\n",
      "\n",
      "Building estimator 12 of 50 for this parallel run (total 100)...Building estimator 12 of 50 for this parallel run (total 100)...\n",
      "\n",
      "Building estimator 13 of 50 for this parallel run (total 100)...\n",
      "Building estimator 13 of 50 for this parallel run (total 100)...\n",
      "Building estimator 14 of 50 for this parallel run (total 100)...Building estimator 14 of 50 for this parallel run (total 100)...\n",
      "\n",
      "Building estimator 15 of 50 for this parallel run (total 100)...\n",
      "Building estimator 15 of 50 for this parallel run (total 100)...\n",
      "Building estimator 16 of 50 for this parallel run (total 100)...Building estimator 16 of 50 for this parallel run (total 100)...\n",
      "\n",
      "Building estimator 17 of 50 for this parallel run (total 100)...Building estimator 17 of 50 for this parallel run (total 100)...\n",
      "\n",
      "Building estimator 18 of 50 for this parallel run (total 100)...Building estimator 18 of 50 for this parallel run (total 100)...\n",
      "\n",
      "Building estimator 19 of 50 for this parallel run (total 100)...Building estimator 19 of 50 for this parallel run (total 100)...\n",
      "\n",
      "Building estimator 20 of 50 for this parallel run (total 100)...Building estimator 20 of 50 for this parallel run (total 100)...\n",
      "\n",
      "Building estimator 21 of 50 for this parallel run (total 100)...Building estimator 21 of 50 for this parallel run (total 100)...\n",
      "\n",
      "Building estimator 22 of 50 for this parallel run (total 100)...Building estimator 22 of 50 for this parallel run (total 100)...\n",
      "\n",
      "Building estimator 23 of 50 for this parallel run (total 100)...Building estimator 23 of 50 for this parallel run (total 100)...\n",
      "\n",
      "Building estimator 24 of 50 for this parallel run (total 100)...Building estimator 24 of 50 for this parallel run (total 100)...\n",
      "\n",
      "Building estimator 25 of 50 for this parallel run (total 100)...Building estimator 25 of 50 for this parallel run (total 100)...\n",
      "\n",
      "Building estimator 26 of 50 for this parallel run (total 100)...Building estimator 26 of 50 for this parallel run (total 100)...\n",
      "\n",
      "Building estimator 27 of 50 for this parallel run (total 100)...Building estimator 27 of 50 for this parallel run (total 100)...\n",
      "\n",
      "Building estimator 28 of 50 for this parallel run (total 100)...Building estimator 28 of 50 for this parallel run (total 100)...\n",
      "\n",
      "Building estimator 29 of 50 for this parallel run (total 100)...Building estimator 29 of 50 for this parallel run (total 100)...\n",
      "\n",
      "Building estimator 30 of 50 for this parallel run (total 100)...Building estimator 30 of 50 for this parallel run (total 100)...\n",
      "\n",
      "Building estimator 31 of 50 for this parallel run (total 100)...Building estimator 31 of 50 for this parallel run (total 100)...\n",
      "\n",
      "Building estimator 32 of 50 for this parallel run (total 100)...Building estimator 32 of 50 for this parallel run (total 100)...\n",
      "\n",
      "Building estimator 33 of 50 for this parallel run (total 100)...Building estimator 33 of 50 for this parallel run (total 100)...\n",
      "\n",
      "Building estimator 34 of 50 for this parallel run (total 100)...Building estimator 34 of 50 for this parallel run (total 100)...\n",
      "\n",
      "Building estimator 35 of 50 for this parallel run (total 100)...Building estimator 35 of 50 for this parallel run (total 100)...\n",
      "\n",
      "Building estimator 36 of 50 for this parallel run (total 100)...Building estimator 36 of 50 for this parallel run (total 100)...\n",
      "\n",
      "Building estimator 37 of 50 for this parallel run (total 100)...\n",
      "Building estimator 37 of 50 for this parallel run (total 100)...\n",
      "Building estimator 38 of 50 for this parallel run (total 100)...Building estimator 38 of 50 for this parallel run (total 100)...\n",
      "\n",
      "Building estimator 39 of 50 for this parallel run (total 100)...Building estimator 39 of 50 for this parallel run (total 100)...\n",
      "\n",
      "Building estimator 40 of 50 for this parallel run (total 100)...Building estimator 40 of 50 for this parallel run (total 100)...\n",
      "\n",
      "Building estimator 41 of 50 for this parallel run (total 100)...Building estimator 41 of 50 for this parallel run (total 100)...\n",
      "\n",
      "Building estimator 42 of 50 for this parallel run (total 100)...Building estimator 42 of 50 for this parallel run (total 100)...\n",
      "\n",
      "Building estimator 43 of 50 for this parallel run (total 100)...Building estimator 43 of 50 for this parallel run (total 100)...\n",
      "\n",
      "Building estimator 44 of 50 for this parallel run (total 100)...Building estimator 44 of 50 for this parallel run (total 100)...\n",
      "\n",
      "Building estimator 45 of 50 for this parallel run (total 100)...Building estimator 45 of 50 for this parallel run (total 100)...\n",
      "\n",
      "Building estimator 46 of 50 for this parallel run (total 100)...Building estimator 46 of 50 for this parallel run (total 100)...\n",
      "\n",
      "Building estimator 47 of 50 for this parallel run (total 100)...Building estimator 47 of 50 for this parallel run (total 100)...\n",
      "\n",
      "Building estimator 48 of 50 for this parallel run (total 100)...Building estimator 48 of 50 for this parallel run (total 100)...\n",
      "\n",
      "Building estimator 49 of 50 for this parallel run (total 100)...Building estimator 49 of 50 for this parallel run (total 100)...\n",
      "\n",
      "Building estimator 50 of 50 for this parallel run (total 100)...Building estimator 50 of 50 for this parallel run (total 100)...\n",
      "\n"
     ]
    },
    {
     "name": "stderr",
     "output_type": "stream",
     "text": [
      "[Parallel(n_jobs=2)]: Using backend ThreadingBackend with 2 concurrent workers.\n",
      "[Parallel(n_jobs=2)]: Done   2 out of   2 | elapsed:    0.2s finished\n"
     ]
    },
    {
     "data": {
      "text/plain": [
       "IsolationForest(max_features=1, max_samples=150, n_jobs=2,\n",
       "                random_state=RandomState(MT19937) at 0x7F96A66A9340, verbose=2)"
      ]
     },
     "execution_count": 44,
     "metadata": {},
     "output_type": "execute_result"
    }
   ],
   "source": [
    "ifm.fit(x)"
   ]
  },
  {
   "cell_type": "markdown",
   "id": "digital-connection",
   "metadata": {},
   "source": [
    "### 预测结果"
   ]
  },
  {
   "cell_type": "code",
   "execution_count": 45,
   "id": "smooth-vinyl",
   "metadata": {},
   "outputs": [],
   "source": [
    "scores_pred = ifm.decision_function(x)"
   ]
  },
  {
   "cell_type": "code",
   "execution_count": 46,
   "id": "musical-details",
   "metadata": {},
   "outputs": [
    {
     "data": {
      "text/plain": [
       "array([-2.64774717e-01, -1.11778000e-01, -1.02661283e-01, -6.54343038e-02,\n",
       "       -6.91783710e-02, -5.03735660e-02, -4.78146005e-02, -4.30344279e-02,\n",
       "       -4.11117901e-02, -3.48668310e-02, -3.36547129e-02, -3.02694411e-02,\n",
       "       -2.34708641e-02, -1.01619248e-02, -2.05699929e-02, -6.55417063e-03,\n",
       "       -1.53156547e-02, -7.18818036e-04, -1.13168814e-03,  1.22550013e-04,\n",
       "        3.28843833e-03,  5.40744220e-03,  1.03357160e-02,  2.06573107e-02,\n",
       "        1.42052735e-02,  1.97837020e-02,  1.54818697e-03,  1.63434976e-02,\n",
       "        7.71857275e-03,  1.36376542e-02,  7.68524783e-03,  7.70156767e-03,\n",
       "        1.38469632e-02,  1.80071173e-02,  1.41935852e-02,  1.44626016e-02,\n",
       "        1.23101061e-02,  1.61479663e-02,  1.62029808e-02,  1.86040596e-02,\n",
       "        1.27960798e-02,  1.26374847e-02,  1.06986764e-02,  1.98567723e-02,\n",
       "        2.02030898e-02,  1.77819032e-02,  2.10904615e-02,  1.24726060e-02,\n",
       "        1.55513465e-02,  2.58579748e-03,  1.80313126e-02,  5.46166406e-03,\n",
       "        1.41755882e-02,  8.14883312e-03,  8.16351949e-03,  9.03901000e-03,\n",
       "        2.61794493e-02,  1.27740640e-02,  3.13992181e-02,  1.25726244e-02,\n",
       "        2.78904042e-02,  5.37483439e-03,  2.53824221e-02,  1.35254333e-02,\n",
       "        2.36355786e-02,  1.10412871e-02,  2.42674988e-02,  8.76584428e-03,\n",
       "        1.95852046e-02,  6.04596235e-03,  1.55440760e-02,  1.38615094e-02,\n",
       "        1.46059646e-02,  2.13142594e-02,  7.60507543e-03,  1.27029186e-02,\n",
       "        1.21554972e-02,  1.90370488e-02,  2.17845876e-02,  1.34990324e-02,\n",
       "        1.66941563e-02,  9.91773680e-03,  9.67998425e-03,  2.91390753e-03,\n",
       "        2.04790989e-02,  1.23050066e-03,  2.10051317e-02,  2.72289819e-03,\n",
       "        1.62385024e-02,  1.06463361e-02,  1.20406688e-02,  6.80145084e-03,\n",
       "        1.56191111e-02, -4.15736472e-03,  1.30636761e-02, -4.04179344e-03,\n",
       "        1.80940668e-02,  5.19430220e-03,  2.12123084e-02,  9.56439968e-03,\n",
       "        8.90601874e-03, -3.58704521e-03,  4.34045549e-04, -1.90626841e-01,\n",
       "       -5.65075763e-03,  3.35549128e-03, -1.31931923e-03,  1.24089625e-02,\n",
       "        4.31401080e-03,  1.10098528e-02,  4.76130558e-03,  6.18886938e-03,\n",
       "        5.84429132e-03,  4.95857335e-03,  2.56102816e-03, -5.78788977e-03,\n",
       "        2.31838870e-03, -5.90952560e-03,  6.09184737e-03, -8.36192690e-04,\n",
       "        2.67132572e-03,  7.33904817e-03,  1.78802591e-02,  1.61183015e-02,\n",
       "        1.67582696e-02,  1.05173719e-02,  8.88579067e-03, -8.79217244e-03,\n",
       "        8.90819543e-04, -7.46025555e-03, -7.91284726e-03, -8.87941222e-03,\n",
       "       -1.69897885e-02, -1.53678301e-02, -2.61891537e-01, -3.78626064e-02,\n",
       "       -2.37952208e-02, -3.39222489e-02, -3.47958227e-02, -4.40162132e-02,\n",
       "       -5.25068224e-02, -5.26601162e-02, -5.54134813e-02, -5.34328351e-02,\n",
       "       -6.36160584e-02, -6.90595179e-02, -8.84335254e-02, -1.12548077e-01,\n",
       "       -1.30869423e-01, -1.92193755e-01])"
      ]
     },
     "execution_count": 46,
     "metadata": {},
     "output_type": "execute_result"
    }
   ],
   "source": [
    "scores_pred"
   ]
  },
  {
   "cell_type": "code",
   "execution_count": 47,
   "id": "brown-introduction",
   "metadata": {},
   "outputs": [],
   "source": [
    "threshold = stats.scoreatpercentile(scores_pred, 100 * outliers_fraction)"
   ]
  },
  {
   "cell_type": "code",
   "execution_count": 48,
   "id": "everyday-prerequisite",
   "metadata": {},
   "outputs": [
    {
     "data": {
      "text/plain": [
       "-0.1918255304044141"
      ]
     },
     "execution_count": 48,
     "metadata": {},
     "output_type": "execute_result"
    }
   ],
   "source": [
    "threshold"
   ]
  },
  {
   "cell_type": "code",
   "execution_count": 49,
   "id": "outstanding-transcription",
   "metadata": {},
   "outputs": [
    {
     "data": {
      "text/html": [
       "<div>\n",
       "<style scoped>\n",
       "    .dataframe tbody tr th:only-of-type {\n",
       "        vertical-align: middle;\n",
       "    }\n",
       "\n",
       "    .dataframe tbody tr th {\n",
       "        vertical-align: top;\n",
       "    }\n",
       "\n",
       "    .dataframe thead th {\n",
       "        text-align: right;\n",
       "    }\n",
       "</style>\n",
       "<table border=\"1\" class=\"dataframe\">\n",
       "  <thead>\n",
       "    <tr style=\"text-align: right;\">\n",
       "      <th></th>\n",
       "      <th>35KV 1# 主变用电量</th>\n",
       "      <th>data</th>\n",
       "    </tr>\n",
       "  </thead>\n",
       "  <tbody>\n",
       "    <tr>\n",
       "      <th>0</th>\n",
       "      <td>90476192</td>\n",
       "      <td>0.0</td>\n",
       "    </tr>\n",
       "    <tr>\n",
       "      <th>1</th>\n",
       "      <td>1372980</td>\n",
       "      <td>-89103212.0</td>\n",
       "    </tr>\n",
       "    <tr>\n",
       "      <th>2</th>\n",
       "      <td>90476400</td>\n",
       "      <td>89103420.0</td>\n",
       "    </tr>\n",
       "    <tr>\n",
       "      <th>3</th>\n",
       "      <td>1372980</td>\n",
       "      <td>-89103420.0</td>\n",
       "    </tr>\n",
       "    <tr>\n",
       "      <th>4</th>\n",
       "      <td>90476616</td>\n",
       "      <td>89103636.0</td>\n",
       "    </tr>\n",
       "    <tr>\n",
       "      <th>...</th>\n",
       "      <td>...</td>\n",
       "      <td>...</td>\n",
       "    </tr>\n",
       "    <tr>\n",
       "      <th>145</th>\n",
       "      <td>1373260</td>\n",
       "      <td>-89118364.0</td>\n",
       "    </tr>\n",
       "    <tr>\n",
       "      <th>146</th>\n",
       "      <td>90491832</td>\n",
       "      <td>89118572.0</td>\n",
       "    </tr>\n",
       "    <tr>\n",
       "      <th>147</th>\n",
       "      <td>1373260</td>\n",
       "      <td>-89118572.0</td>\n",
       "    </tr>\n",
       "    <tr>\n",
       "      <th>148</th>\n",
       "      <td>90492048</td>\n",
       "      <td>89118788.0</td>\n",
       "    </tr>\n",
       "    <tr>\n",
       "      <th>149</th>\n",
       "      <td>90492144</td>\n",
       "      <td>96.0</td>\n",
       "    </tr>\n",
       "  </tbody>\n",
       "</table>\n",
       "<p>150 rows × 2 columns</p>\n",
       "</div>"
      ],
      "text/plain": [
       "     35KV 1# 主变用电量        data\n",
       "0         90476192         0.0\n",
       "1          1372980 -89103212.0\n",
       "2         90476400  89103420.0\n",
       "3          1372980 -89103420.0\n",
       "4         90476616  89103636.0\n",
       "..             ...         ...\n",
       "145        1373260 -89118364.0\n",
       "146       90491832  89118572.0\n",
       "147        1373260 -89118572.0\n",
       "148       90492048  89118788.0\n",
       "149       90492144        96.0\n",
       "\n",
       "[150 rows x 2 columns]"
      ]
     },
     "execution_count": 49,
     "metadata": {},
     "output_type": "execute_result"
    }
   ],
   "source": [
    "dataset"
   ]
  },
  {
   "cell_type": "markdown",
   "id": "closed-scale",
   "metadata": {},
   "source": [
    "### 绘制预测效果"
   ]
  },
  {
   "cell_type": "code",
   "execution_count": 50,
   "id": "silver-poultry",
   "metadata": {},
   "outputs": [
    {
     "data": {
      "image/png": "[encoded data removed]",
      "text/plain": [
       "<Figure size 432x288 with 1 Axes>"
      ]
     },
     "metadata": {
      "needs_background": "light"
     },
     "output_type": "display_data"
    }
   ],
   "source": [
    "plt.title(\"IsolationForest \")\n",
    "for i in scores_pred:\n",
    "    if i <= threshold:\n",
    "        #print(i)\n",
    "        test_data.append(1)\n",
    "        anomaly.append(i)\n",
    "    else:\n",
    "        test_data.append(0)\n",
    "        \n",
    "ano_lable = np.column_stack(((dataset['35KV 1# 主变用电量'],dataset['data'],x,scores_pred, test_data)))\n",
    "df = pd.DataFrame(data=ano_lable, columns=['35KV 1# 主变用电量','data','x', 'IsoFst_Score','label'])\n",
    "\n",
    "b = plt.scatter(list(range(0,147)),df['x'][df['label'] == 0], s=20, edgecolor='k',c='white')\n",
    "c = plt.scatter(list(range(0,3)),df['x'][df['label'] == 1], s=20, edgecolor='k',c='black')"
   ]
  },
  {
   "cell_type": "code",
   "execution_count": 51,
   "id": "downtown-craps",
   "metadata": {},
   "outputs": [
    {
     "data": {
      "text/plain": [
       "150"
      ]
     },
     "execution_count": 51,
     "metadata": {},
     "output_type": "execute_result"
    }
   ],
   "source": [
    "len(test_data)"
   ]
  },
  {
   "cell_type": "code",
   "execution_count": 52,
   "id": "academic-compiler",
   "metadata": {},
   "outputs": [],
   "source": [
    "ano_lable = np.column_stack(((df['35KV 1# 主变用电量'],df['data'],x,scores_pred, test_data)))"
   ]
  },
  {
   "cell_type": "code",
   "execution_count": 53,
   "id": "thorough-series",
   "metadata": {},
   "outputs": [
    {
     "data": {
      "text/plain": [
       "array([[ 9.04761920e+07,  0.00000000e+00, -1.21186714e-06,\n",
       "        -2.64774717e-01,  1.00000000e+00],\n",
       "       [ 1.37298000e+06, -8.91032120e+07, -9.99827646e-01,\n",
       "        -1.11778000e-01,  0.00000000e+00],\n",
       "       [ 9.04764000e+07,  8.91034200e+07,  9.99827556e-01,\n",
       "        -1.02661283e-01,  0.00000000e+00],\n",
       "       [ 1.37298000e+06, -8.91034200e+07, -9.99829980e-01,\n",
       "        -6.54343038e-02,  0.00000000e+00],\n",
       "       [ 9.04766160e+07,  8.91036360e+07,  9.99829980e-01,\n",
       "        -6.91783710e-02,  0.00000000e+00],\n",
       "       [ 1.37298000e+06, -8.91036360e+07, -9.99832403e-01,\n",
       "        -5.03735660e-02,  0.00000000e+00],\n",
       "       [ 9.04768160e+07,  8.91038360e+07,  9.99832224e-01,\n",
       "        -4.78146005e-02,  0.00000000e+00],\n",
       "       [ 1.37298000e+06, -8.91038360e+07, -9.99834647e-01,\n",
       "        -4.30344279e-02,  0.00000000e+00],\n",
       "       [ 9.04770320e+07,  8.91040520e+07,  9.99834647e-01,\n",
       "        -4.11117901e-02,  0.00000000e+00],\n",
       "       [ 1.37298000e+06, -8.91040520e+07, -9.99837071e-01,\n",
       "        -3.48668310e-02,  0.00000000e+00],\n",
       "       [ 9.04772400e+07,  8.91042600e+07,  9.99836981e-01,\n",
       "        -3.36547129e-02,  0.00000000e+00],\n",
       "       [ 1.37298000e+06, -8.91042600e+07, -9.99839405e-01,\n",
       "        -3.02694411e-02,  0.00000000e+00],\n",
       "       [ 9.04774560e+07,  8.91044760e+07,  9.99839405e-01,\n",
       "        -2.34708641e-02,  0.00000000e+00],\n",
       "       [ 1.37298000e+06, -8.91044760e+07, -9.99841829e-01,\n",
       "        -1.01619248e-02,  0.00000000e+00],\n",
       "       [ 9.04776560e+07,  8.91046760e+07,  9.99841649e-01,\n",
       "        -2.05699929e-02,  0.00000000e+00],\n",
       "       [ 1.37298000e+06, -8.91046760e+07, -9.99844073e-01,\n",
       "        -6.55417063e-03,  0.00000000e+00],\n",
       "       [ 9.04778720e+07,  8.91048920e+07,  9.99844073e-01,\n",
       "        -1.53156547e-02,  0.00000000e+00],\n",
       "       [ 1.37298000e+06, -8.91048920e+07, -9.99846497e-01,\n",
       "        -7.18818036e-04,  0.00000000e+00],\n",
       "       [ 9.04780800e+07,  8.91051000e+07,  9.99846407e-01,\n",
       "        -1.13168814e-03,  0.00000000e+00],\n",
       "       [ 1.37298000e+06, -8.91051000e+07, -9.99848831e-01,\n",
       "         1.22550013e-04,  0.00000000e+00],\n",
       "       [ 9.04782960e+07,  8.91053160e+07,  9.99848831e-01,\n",
       "         3.28843833e-03,  0.00000000e+00],\n",
       "       [ 1.37298000e+06, -8.91053160e+07, -9.99851255e-01,\n",
       "         5.40744220e-03,  0.00000000e+00],\n",
       "       [ 9.04784960e+07,  8.91055160e+07,  9.99851075e-01,\n",
       "         1.03357160e-02,  0.00000000e+00],\n",
       "       [ 1.37298000e+06, -8.91055160e+07, -9.99853499e-01,\n",
       "         2.06573107e-02,  0.00000000e+00],\n",
       "       [ 9.04786000e+07,  8.91056200e+07,  9.99852242e-01,\n",
       "         1.42052735e-02,  0.00000000e+00],\n",
       "       [ 1.37298000e+06, -8.91056200e+07, -9.99854666e-01,\n",
       "         1.97837020e-02,  0.00000000e+00],\n",
       "       [ 9.04788160e+07,  8.91058360e+07,  9.99854666e-01,\n",
       "         1.54818697e-03,  0.00000000e+00],\n",
       "       [ 1.37298000e+06, -8.91058360e+07, -9.99857089e-01,\n",
       "         1.63434976e-02,  0.00000000e+00],\n",
       "       [ 9.04790240e+07,  8.91060440e+07,  9.99857000e-01,\n",
       "         7.71857275e-03,  0.00000000e+00],\n",
       "       [ 1.37298000e+06, -8.91060440e+07, -9.99859423e-01,\n",
       "         1.36376542e-02,  0.00000000e+00],\n",
       "       [ 9.04792400e+07,  8.91062600e+07,  9.99859423e-01,\n",
       "         7.68524783e-03,  0.00000000e+00],\n",
       "       [ 1.37298000e+06, -8.91062600e+07, -9.99861847e-01,\n",
       "         7.70156767e-03,  0.00000000e+00],\n",
       "       [ 9.04794400e+07,  8.91064600e+07,  9.99861668e-01,\n",
       "         1.38469632e-02,  0.00000000e+00],\n",
       "       [ 1.37298000e+06, -8.91064600e+07, -9.99864091e-01,\n",
       "         1.80071173e-02,  0.00000000e+00],\n",
       "       [ 9.04796560e+07,  8.91066760e+07,  9.99864091e-01,\n",
       "         1.41935852e-02,  0.00000000e+00],\n",
       "       [ 1.37298000e+06, -8.91066760e+07, -9.99866515e-01,\n",
       "         1.44626016e-02,  0.00000000e+00],\n",
       "       [ 9.04798640e+07,  8.91068840e+07,  9.99866425e-01,\n",
       "         1.23101061e-02,  0.00000000e+00],\n",
       "       [ 1.37298000e+06, -8.91068840e+07, -9.99868849e-01,\n",
       "         1.61479663e-02,  0.00000000e+00],\n",
       "       [ 9.04800800e+07,  8.91071000e+07,  9.99868849e-01,\n",
       "         1.62029808e-02,  0.00000000e+00],\n",
       "       [ 1.37298000e+06, -8.91071000e+07, -9.99871273e-01,\n",
       "         1.86040596e-02,  0.00000000e+00],\n",
       "       [ 9.04802880e+07,  8.91073080e+07,  9.99871183e-01,\n",
       "         1.27960798e-02,  0.00000000e+00],\n",
       "       [ 1.37298000e+06, -8.91073080e+07, -9.99873607e-01,\n",
       "         1.26374847e-02,  0.00000000e+00],\n",
       "       [ 9.04804960e+07,  8.91075160e+07,  9.99873517e-01,\n",
       "         1.06986764e-02,  0.00000000e+00],\n",
       "       [ 1.37298000e+06, -8.91075160e+07, -9.99875941e-01,\n",
       "         1.98567723e-02,  0.00000000e+00],\n",
       "       [ 9.04807040e+07,  8.91077240e+07,  9.99875851e-01,\n",
       "         2.02030898e-02,  0.00000000e+00],\n",
       "       [ 1.37312000e+06, -8.91075840e+07, -9.99876704e-01,\n",
       "         1.77819032e-02,  0.00000000e+00],\n",
       "       [ 9.04809200e+07,  8.91078000e+07,  9.99876704e-01,\n",
       "         2.10904615e-02,  0.00000000e+00],\n",
       "       [ 1.37312000e+06, -8.91078000e+07, -9.99879127e-01,\n",
       "         1.24726060e-02,  0.00000000e+00],\n",
       "       [ 9.04811280e+07,  8.91080080e+07,  9.99879038e-01,\n",
       "         1.55513465e-02,  0.00000000e+00],\n",
       "       [ 1.37312000e+06, -8.91080080e+07, -9.99881461e-01,\n",
       "         2.58579748e-03,  0.00000000e+00],\n",
       "       [ 9.04814400e+07,  8.91083200e+07,  9.99882539e-01,\n",
       "         1.80313126e-02,  0.00000000e+00],\n",
       "       [ 1.37312000e+06, -8.91083200e+07, -9.99884962e-01,\n",
       "         5.46166406e-03,  0.00000000e+00],\n",
       "       [ 9.04816480e+07,  8.91085280e+07,  9.99884873e-01,\n",
       "         1.41755882e-02,  0.00000000e+00],\n",
       "       [ 1.37312000e+06, -8.91085280e+07, -9.99887296e-01,\n",
       "         8.14883312e-03,  0.00000000e+00],\n",
       "       [ 9.04818640e+07,  8.91087440e+07,  9.99887296e-01,\n",
       "         8.16351949e-03,  0.00000000e+00],\n",
       "       [ 1.37312000e+06, -8.91087440e+07, -9.99889720e-01,\n",
       "         9.03901000e-03,  0.00000000e+00],\n",
       "       [ 9.04821680e+07,  8.91090480e+07,  9.99890708e-01,\n",
       "         2.61794493e-02,  0.00000000e+00],\n",
       "       [ 1.37312000e+06, -8.91090480e+07, -9.99893131e-01,\n",
       "         1.27740640e-02,  0.00000000e+00],\n",
       "       [ 9.04822800e+07,  8.91091600e+07,  9.99891964e-01,\n",
       "         3.13992181e-02,  0.00000000e+00],\n",
       "       [ 1.37312000e+06, -8.91091600e+07, -9.99894388e-01,\n",
       "         1.25726244e-02,  0.00000000e+00],\n",
       "       [ 9.04824880e+07,  8.91093680e+07,  9.99894298e-01,\n",
       "         2.78904042e-02,  0.00000000e+00],\n",
       "       [ 1.37312000e+06, -8.91093680e+07, -9.99896722e-01,\n",
       "         5.37483439e-03,  0.00000000e+00],\n",
       "       [ 9.04827040e+07,  8.91095840e+07,  9.99896722e-01,\n",
       "         2.53824221e-02,  0.00000000e+00],\n",
       "       [ 1.37312000e+06, -8.91095840e+07, -9.99899146e-01,\n",
       "         1.35254333e-02,  0.00000000e+00],\n",
       "       [ 9.04829120e+07,  8.91097920e+07,  9.99899056e-01,\n",
       "         2.36355786e-02,  0.00000000e+00],\n",
       "       [ 1.37312000e+06, -8.91097920e+07, -9.99901480e-01,\n",
       "         1.10412871e-02,  0.00000000e+00],\n",
       "       [ 9.04831280e+07,  8.91100080e+07,  9.99901480e-01,\n",
       "         2.42674988e-02,  0.00000000e+00],\n",
       "       [ 1.37312000e+06, -8.91100080e+07, -9.99903903e-01,\n",
       "         8.76584428e-03,  0.00000000e+00],\n",
       "       [ 9.04833280e+07,  8.91102080e+07,  9.99903724e-01,\n",
       "         1.95852046e-02,  0.00000000e+00],\n",
       "       [ 1.37312000e+06, -8.91102080e+07, -9.99906148e-01,\n",
       "         6.04596235e-03,  0.00000000e+00],\n",
       "       [ 9.04836480e+07,  8.91105280e+07,  9.99907315e-01,\n",
       "         1.55440760e-02,  0.00000000e+00],\n",
       "       [ 1.37312000e+06, -8.91105280e+07, -9.99909738e-01,\n",
       "         1.38615094e-02,  0.00000000e+00],\n",
       "       [ 9.04837520e+07,  8.91106320e+07,  9.99908482e-01,\n",
       "         1.46059646e-02,  0.00000000e+00],\n",
       "       [ 1.37312000e+06, -8.91106320e+07, -9.99910905e-01,\n",
       "         2.13142594e-02,  0.00000000e+00],\n",
       "       [ 9.04839520e+07,  8.91108320e+07,  9.99910726e-01,\n",
       "         7.60507543e-03,  0.00000000e+00],\n",
       "       [ 1.37312000e+06, -8.91108320e+07, -9.99913150e-01,\n",
       "         1.27029186e-02,  0.00000000e+00],\n",
       "       [ 9.04841680e+07,  8.91110480e+07,  9.99913150e-01,\n",
       "         1.21554972e-02,  0.00000000e+00],\n",
       "       [ 1.37312000e+06, -8.91110480e+07, -9.99915573e-01,\n",
       "         1.90370488e-02,  0.00000000e+00],\n",
       "       [ 9.04843760e+07,  8.91112560e+07,  9.99915483e-01,\n",
       "         2.17845876e-02,  0.00000000e+00],\n",
       "       [ 1.37312000e+06, -8.91112560e+07, -9.99917907e-01,\n",
       "         1.34990324e-02,  0.00000000e+00],\n",
       "       [ 9.04845920e+07,  8.91114720e+07,  9.99917907e-01,\n",
       "         1.66941563e-02,  0.00000000e+00],\n",
       "       [ 1.37312000e+06, -8.91114720e+07, -9.99920331e-01,\n",
       "         9.91773680e-03,  0.00000000e+00],\n",
       "       [ 9.04847920e+07,  8.91116720e+07,  9.99920151e-01,\n",
       "         9.67998425e-03,  0.00000000e+00],\n",
       "       [ 1.37312000e+06, -8.91116720e+07, -9.99922575e-01,\n",
       "         2.91390753e-03,  0.00000000e+00],\n",
       "       [ 9.04851120e+07,  8.91119920e+07,  9.99923742e-01,\n",
       "         2.04790989e-02,  0.00000000e+00],\n",
       "       [ 1.37312000e+06, -8.91119920e+07, -9.99926166e-01,\n",
       "         1.23050066e-03,  0.00000000e+00],\n",
       "       [ 9.04852160e+07,  8.91120960e+07,  9.99924909e-01,\n",
       "         2.10051317e-02,  0.00000000e+00],\n",
       "       [ 1.37312000e+06, -8.91120960e+07, -9.99927333e-01,\n",
       "         2.72289819e-03,  0.00000000e+00],\n",
       "       [ 9.04855360e+07,  8.91124160e+07,  9.99928500e-01,\n",
       "         1.62385024e-02,  0.00000000e+00],\n",
       "       [ 1.37312000e+06, -8.91124160e+07, -9.99930924e-01,\n",
       "         1.06463361e-02,  0.00000000e+00],\n",
       "       [ 9.04856400e+07,  8.91125200e+07,  9.99929667e-01,\n",
       "         1.20406688e-02,  0.00000000e+00],\n",
       "       [ 1.37312000e+06, -8.91125200e+07, -9.99932091e-01,\n",
       "         6.80145084e-03,  0.00000000e+00],\n",
       "       [ 9.04858560e+07,  8.91127360e+07,  9.99932091e-01,\n",
       "         1.56191111e-02,  0.00000000e+00],\n",
       "       [ 1.37312000e+06, -8.91127360e+07, -9.99934514e-01,\n",
       "        -4.15736472e-03,  0.00000000e+00],\n",
       "       [ 9.04861680e+07,  8.91130480e+07,  9.99935592e-01,\n",
       "         1.30636761e-02,  0.00000000e+00],\n",
       "       [ 1.37312000e+06, -8.91130480e+07, -9.99938015e-01,\n",
       "        -4.04179344e-03,  0.00000000e+00],\n",
       "       [ 9.04863760e+07,  8.91132560e+07,  9.99937925e-01,\n",
       "         1.80940668e-02,  0.00000000e+00],\n",
       "       [ 1.37312000e+06, -8.91132560e+07, -9.99940349e-01,\n",
       "         5.19430220e-03,  0.00000000e+00],\n",
       "       [ 9.04864800e+07,  8.91133600e+07,  9.99939092e-01,\n",
       "         2.12123084e-02,  0.00000000e+00],\n",
       "       [ 1.37312000e+06, -8.91133600e+07, -9.99941516e-01,\n",
       "         9.56439968e-03,  0.00000000e+00],\n",
       "       [ 9.04866960e+07,  8.91135760e+07,  9.99941516e-01,\n",
       "         8.90601874e-03,  0.00000000e+00],\n",
       "       [ 1.37312000e+06, -8.91135760e+07, -9.99943940e-01,\n",
       "        -3.58704521e-03,  0.00000000e+00],\n",
       "       [ 9.04870000e+07,  8.91138800e+07,  9.99944927e-01,\n",
       "         4.34045549e-04,  0.00000000e+00],\n",
       "       [ 9.04871120e+07,  1.12000000e+02,  4.48839682e-08,\n",
       "        -1.90626841e-01,  0.00000000e+00],\n",
       "       [ 1.37312000e+06, -8.91139920e+07, -9.99948608e-01,\n",
       "        -5.65075763e-03,  0.00000000e+00],\n",
       "       [ 9.04873200e+07,  8.91142000e+07,  9.99948518e-01,\n",
       "         3.35549128e-03,  0.00000000e+00],\n",
       "       [ 1.37312000e+06, -8.91142000e+07, -9.99950942e-01,\n",
       "        -1.31931923e-03,  0.00000000e+00],\n",
       "       [ 9.04875360e+07,  8.91144160e+07,  9.99950942e-01,\n",
       "         1.24089625e-02,  0.00000000e+00],\n",
       "       [ 1.37312000e+06, -8.91144160e+07, -9.99953366e-01,\n",
       "         4.31401080e-03,  0.00000000e+00],\n",
       "       [ 9.04877360e+07,  8.91146160e+07,  9.99953186e-01,\n",
       "         1.10098528e-02,  0.00000000e+00],\n",
       "       [ 1.37312000e+06, -8.91146160e+07, -9.99955610e-01,\n",
       "         4.76130558e-03,  0.00000000e+00],\n",
       "       [ 9.04879520e+07,  8.91148320e+07,  9.99955610e-01,\n",
       "         6.18886938e-03,  0.00000000e+00],\n",
       "       [ 1.37312000e+06, -8.91148320e+07, -9.99958033e-01,\n",
       "         5.84429132e-03,  0.00000000e+00],\n",
       "       [ 9.04881600e+07,  8.91150400e+07,  9.99957944e-01,\n",
       "         4.95857335e-03,  0.00000000e+00],\n",
       "       [ 1.37312000e+06, -8.91150400e+07, -9.99960367e-01,\n",
       "         2.56102816e-03,  0.00000000e+00],\n",
       "       [ 9.04883760e+07,  8.91152560e+07,  9.99960367e-01,\n",
       "        -5.78788977e-03,  0.00000000e+00],\n",
       "       [ 1.37312000e+06, -8.91152560e+07, -9.99962791e-01,\n",
       "         2.31838870e-03,  0.00000000e+00],\n",
       "       [ 9.04886800e+07,  8.91155600e+07,  9.99963779e-01,\n",
       "        -5.90952560e-03,  0.00000000e+00],\n",
       "       [ 1.37312000e+06, -8.91155600e+07, -9.99966202e-01,\n",
       "         6.09184737e-03,  0.00000000e+00],\n",
       "       [ 9.04887920e+07,  8.91156720e+07,  9.99965035e-01,\n",
       "        -8.36192690e-04,  0.00000000e+00],\n",
       "       [ 1.37312000e+06, -8.91156720e+07, -9.99967459e-01,\n",
       "         2.67132572e-03,  0.00000000e+00],\n",
       "       [ 9.04891040e+07,  8.91159840e+07,  9.99968536e-01,\n",
       "         7.33904817e-03,  0.00000000e+00],\n",
       "       [ 1.37312000e+06, -8.91159840e+07, -9.99970960e-01,\n",
       "         1.78802591e-02,  0.00000000e+00],\n",
       "       [ 9.04892080e+07,  8.91160880e+07,  9.99969703e-01,\n",
       "         1.61183015e-02,  0.00000000e+00],\n",
       "       [ 1.37326000e+06, -8.91159480e+07, -9.99970556e-01,\n",
       "         1.67582696e-02,  0.00000000e+00],\n",
       "       [ 9.04894240e+07,  8.91161640e+07,  9.99970556e-01,\n",
       "         1.05173719e-02,  0.00000000e+00],\n",
       "       [ 1.37326000e+06, -8.91161640e+07, -9.99972980e-01,\n",
       "         8.88579067e-03,  0.00000000e+00],\n",
       "       [ 9.04896240e+07,  8.91163640e+07,  9.99972800e-01,\n",
       "        -8.79217244e-03,  0.00000000e+00],\n",
       "       [ 1.37326000e+06, -8.91163640e+07, -9.99975224e-01,\n",
       "         8.90819543e-04,  0.00000000e+00],\n",
       "       [ 9.04899440e+07,  8.91166840e+07,  9.99976391e-01,\n",
       "        -7.46025555e-03,  0.00000000e+00],\n",
       "       [ 1.37326000e+06, -8.91166840e+07, -9.99978815e-01,\n",
       "        -7.91284726e-03,  0.00000000e+00],\n",
       "       [ 9.04900480e+07,  8.91167880e+07,  9.99977558e-01,\n",
       "        -8.87941222e-03,  0.00000000e+00],\n",
       "       [ 1.37326000e+06, -8.91167880e+07, -9.99979982e-01,\n",
       "        -1.69897885e-02,  0.00000000e+00],\n",
       "       [ 9.04903600e+07,  8.91171000e+07,  9.99981059e-01,\n",
       "        -1.53678301e-02,  0.00000000e+00],\n",
       "       [ 9.04905760e+07,  2.16000000e+02,  1.21186714e-06,\n",
       "        -2.61891537e-01,  1.00000000e+00],\n",
       "       [ 1.37326000e+06, -8.91173160e+07, -9.99985906e-01,\n",
       "        -3.78626064e-02,  0.00000000e+00],\n",
       "       [ 9.04906800e+07,  8.91174200e+07,  9.99984650e-01,\n",
       "        -2.37952208e-02,  0.00000000e+00],\n",
       "       [ 1.37326000e+06, -8.91174200e+07, -9.99987073e-01,\n",
       "        -3.39222489e-02,  0.00000000e+00],\n",
       "       [ 9.04908880e+07,  8.91176280e+07,  9.99986984e-01,\n",
       "        -3.47958227e-02,  0.00000000e+00],\n",
       "       [ 1.37326000e+06, -8.91176280e+07, -9.99989407e-01,\n",
       "        -4.40162132e-02,  0.00000000e+00],\n",
       "       [ 9.04912080e+07,  8.91179480e+07,  9.99990574e-01,\n",
       "        -5.25068224e-02,  0.00000000e+00],\n",
       "       [ 1.37326000e+06, -8.91179480e+07, -9.99992998e-01,\n",
       "        -5.26601162e-02,  0.00000000e+00],\n",
       "       [ 9.04914160e+07,  8.91181560e+07,  9.99992908e-01,\n",
       "        -5.54134813e-02,  0.00000000e+00],\n",
       "       [ 1.37326000e+06, -8.91181560e+07, -9.99995332e-01,\n",
       "        -5.34328351e-02,  0.00000000e+00],\n",
       "       [ 9.04916240e+07,  8.91183640e+07,  9.99995242e-01,\n",
       "        -6.36160584e-02,  0.00000000e+00],\n",
       "       [ 1.37326000e+06, -8.91183640e+07, -9.99997666e-01,\n",
       "        -6.90595179e-02,  0.00000000e+00],\n",
       "       [ 9.04918320e+07,  8.91185720e+07,  9.99997576e-01,\n",
       "        -8.84335254e-02,  0.00000000e+00],\n",
       "       [ 1.37326000e+06, -8.91185720e+07, -1.00000000e+00,\n",
       "        -1.12548077e-01,  0.00000000e+00],\n",
       "       [ 9.04920480e+07,  8.91187880e+07,  1.00000000e+00,\n",
       "        -1.30869423e-01,  0.00000000e+00],\n",
       "       [ 9.04921440e+07,  9.60000000e+01, -1.34651905e-07,\n",
       "        -1.92193755e-01,  1.00000000e+00]])"
      ]
     },
     "execution_count": 53,
     "metadata": {},
     "output_type": "execute_result"
    }
   ],
   "source": [
    "ano_lable"
   ]
  },
  {
   "cell_type": "code",
   "execution_count": 54,
   "id": "applied-mechanics",
   "metadata": {},
   "outputs": [],
   "source": [
    "df = pd.DataFrame(data=ano_lable, columns=['35KV 1# 主变用电量','data','x', 'IsoFst_Score','label'])"
   ]
  },
  {
   "cell_type": "code",
   "execution_count": 55,
   "id": "adolescent-title",
   "metadata": {},
   "outputs": [
    {
     "data": {
      "text/html": [
       "<div>\n",
       "<style scoped>\n",
       "    .dataframe tbody tr th:only-of-type {\n",
       "        vertical-align: middle;\n",
       "    }\n",
       "\n",
       "    .dataframe tbody tr th {\n",
       "        vertical-align: top;\n",
       "    }\n",
       "\n",
       "    .dataframe thead th {\n",
       "        text-align: right;\n",
       "    }\n",
       "</style>\n",
       "<table border=\"1\" class=\"dataframe\">\n",
       "  <thead>\n",
       "    <tr style=\"text-align: right;\">\n",
       "      <th></th>\n",
       "      <th>35KV 1# 主变用电量</th>\n",
       "      <th>data</th>\n",
       "      <th>x</th>\n",
       "      <th>IsoFst_Score</th>\n",
       "      <th>label</th>\n",
       "    </tr>\n",
       "  </thead>\n",
       "  <tbody>\n",
       "    <tr>\n",
       "      <th>0</th>\n",
       "      <td>90476192.0</td>\n",
       "      <td>0.0</td>\n",
       "      <td>-1.211867e-06</td>\n",
       "      <td>-0.264775</td>\n",
       "      <td>1.0</td>\n",
       "    </tr>\n",
       "    <tr>\n",
       "      <th>1</th>\n",
       "      <td>1372980.0</td>\n",
       "      <td>-89103212.0</td>\n",
       "      <td>-9.998276e-01</td>\n",
       "      <td>-0.111778</td>\n",
       "      <td>0.0</td>\n",
       "    </tr>\n",
       "    <tr>\n",
       "      <th>2</th>\n",
       "      <td>90476400.0</td>\n",
       "      <td>89103420.0</td>\n",
       "      <td>9.998276e-01</td>\n",
       "      <td>-0.102661</td>\n",
       "      <td>0.0</td>\n",
       "    </tr>\n",
       "    <tr>\n",
       "      <th>3</th>\n",
       "      <td>1372980.0</td>\n",
       "      <td>-89103420.0</td>\n",
       "      <td>-9.998300e-01</td>\n",
       "      <td>-0.065434</td>\n",
       "      <td>0.0</td>\n",
       "    </tr>\n",
       "    <tr>\n",
       "      <th>4</th>\n",
       "      <td>90476616.0</td>\n",
       "      <td>89103636.0</td>\n",
       "      <td>9.998300e-01</td>\n",
       "      <td>-0.069178</td>\n",
       "      <td>0.0</td>\n",
       "    </tr>\n",
       "    <tr>\n",
       "      <th>...</th>\n",
       "      <td>...</td>\n",
       "      <td>...</td>\n",
       "      <td>...</td>\n",
       "      <td>...</td>\n",
       "      <td>...</td>\n",
       "    </tr>\n",
       "    <tr>\n",
       "      <th>145</th>\n",
       "      <td>1373260.0</td>\n",
       "      <td>-89118364.0</td>\n",
       "      <td>-9.999977e-01</td>\n",
       "      <td>-0.069060</td>\n",
       "      <td>0.0</td>\n",
       "    </tr>\n",
       "    <tr>\n",
       "      <th>146</th>\n",
       "      <td>90491832.0</td>\n",
       "      <td>89118572.0</td>\n",
       "      <td>9.999976e-01</td>\n",
       "      <td>-0.088434</td>\n",
       "      <td>0.0</td>\n",
       "    </tr>\n",
       "    <tr>\n",
       "      <th>147</th>\n",
       "      <td>1373260.0</td>\n",
       "      <td>-89118572.0</td>\n",
       "      <td>-1.000000e+00</td>\n",
       "      <td>-0.112548</td>\n",
       "      <td>0.0</td>\n",
       "    </tr>\n",
       "    <tr>\n",
       "      <th>148</th>\n",
       "      <td>90492048.0</td>\n",
       "      <td>89118788.0</td>\n",
       "      <td>1.000000e+00</td>\n",
       "      <td>-0.130869</td>\n",
       "      <td>0.0</td>\n",
       "    </tr>\n",
       "    <tr>\n",
       "      <th>149</th>\n",
       "      <td>90492144.0</td>\n",
       "      <td>96.0</td>\n",
       "      <td>-1.346519e-07</td>\n",
       "      <td>-0.192194</td>\n",
       "      <td>1.0</td>\n",
       "    </tr>\n",
       "  </tbody>\n",
       "</table>\n",
       "<p>150 rows × 5 columns</p>\n",
       "</div>"
      ],
      "text/plain": [
       "     35KV 1# 主变用电量        data             x  IsoFst_Score  label\n",
       "0       90476192.0         0.0 -1.211867e-06     -0.264775    1.0\n",
       "1        1372980.0 -89103212.0 -9.998276e-01     -0.111778    0.0\n",
       "2       90476400.0  89103420.0  9.998276e-01     -0.102661    0.0\n",
       "3        1372980.0 -89103420.0 -9.998300e-01     -0.065434    0.0\n",
       "4       90476616.0  89103636.0  9.998300e-01     -0.069178    0.0\n",
       "..             ...         ...           ...           ...    ...\n",
       "145      1373260.0 -89118364.0 -9.999977e-01     -0.069060    0.0\n",
       "146     90491832.0  89118572.0  9.999976e-01     -0.088434    0.0\n",
       "147      1373260.0 -89118572.0 -1.000000e+00     -0.112548    0.0\n",
       "148     90492048.0  89118788.0  1.000000e+00     -0.130869    0.0\n",
       "149     90492144.0        96.0 -1.346519e-07     -0.192194    1.0\n",
       "\n",
       "[150 rows x 5 columns]"
      ]
     },
     "execution_count": 55,
     "metadata": {},
     "output_type": "execute_result"
    }
   ],
   "source": [
    "df"
   ]
  },
  {
   "cell_type": "code",
   "execution_count": 56,
   "id": "random-shuttle",
   "metadata": {},
   "outputs": [
    {
     "data": {
      "text/plain": [
       "0     -1.211867e-06\n",
       "134    1.211867e-06\n",
       "149   -1.346519e-07\n",
       "Name: x, dtype: float64"
      ]
     },
     "execution_count": 56,
     "metadata": {},
     "output_type": "execute_result"
    }
   ],
   "source": [
    "df['x'][df['label'] == 1]"
   ]
  },
  {
   "cell_type": "markdown",
   "id": "devoted-slovenia",
   "metadata": {},
   "source": [
    "### 绘制孤立点"
   ]
  },
  {
   "cell_type": "code",
   "execution_count": 57,
   "id": "vanilla-expert",
   "metadata": {},
   "outputs": [
    {
     "data": {
      "image/png": "[encoded data removed]",
      "text/plain": [
       "<Figure size 432x288 with 1 Axes>"
      ]
     },
     "metadata": {
      "needs_background": "light"
     },
     "output_type": "display_data"
    }
   ],
   "source": [
    "c = plt.scatter(list(range(0,3)),df['x'][df['label'] == 1], s=20, edgecolor='k',c='black')"
   ]
  },
  {
   "cell_type": "markdown",
   "id": "turned-buyer",
   "metadata": {},
   "source": [
    "### 最终结果"
   ]
  },
  {
   "cell_type": "code",
   "execution_count": 58,
   "id": "understood-handle",
   "metadata": {},
   "outputs": [
    {
     "name": "stdout",
     "output_type": "stream",
     "text": [
      "孤立森林阈值  ： -0.1918255304044141\n",
      "全量数据样本数： 150 个\n",
      "检测异常样本数： 3 个\n"
     ]
    }
   ],
   "source": [
    "print(\"孤立森林阈值  ：\",threshold)\n",
    "print(\"全量数据样本数：\",len(dataset),\"个\")\n",
    "print(\"检测异常样本数：\",len(anomaly),\"个\")"
   ]
  },
  {
   "cell_type": "code",
   "execution_count": null,
   "id": "civilian-ready",
   "metadata": {},
   "outputs": [],
   "source": []
  }
 ],
 "metadata": {
  "kernelspec": {
   "display_name": "Python 3",
   "language": "python",
   "name": "python3"
  },
  "language_info": {
   "codemirror_mode": {
    "name": "ipython",
    "version": 3
   },
   "file_extension": ".py",
   "mimetype": "text/x-python",
   "name": "python",
   "nbconvert_exporter": "python",
   "pygments_lexer": "ipython3",
   "version": "3.8.5"
  }
 },
 "nbformat": 4,
 "nbformat_minor": 5
}
