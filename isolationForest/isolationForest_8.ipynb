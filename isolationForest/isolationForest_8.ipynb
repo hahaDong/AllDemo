{
 "cells": [
  {
   "cell_type": "markdown",
   "id": "pointed-legislation",
   "metadata": {},
   "source": [
    "### data8数据"
   ]
  },
  {
   "cell_type": "code",
   "execution_count": 48,
   "id": "gentle-bones",
   "metadata": {},
   "outputs": [],
   "source": [
    "import pandas as pd\n",
    "import numpy as np\n",
    "from sklearn.ensemble import IsolationForest\n",
    "import matplotlib.pyplot as plt\n",
    "from scipy import stats\n",
    "from sklearn.preprocessing import MinMaxScaler"
   ]
  },
  {
   "cell_type": "code",
   "execution_count": 49,
   "id": "essential-banner",
   "metadata": {},
   "outputs": [],
   "source": [
    "dataset = pd.read_csv('data/data8.csv',engine='python')"
   ]
  },
  {
   "cell_type": "code",
   "execution_count": 50,
   "id": "olympic-ethiopia",
   "metadata": {},
   "outputs": [
    {
     "data": {
      "text/html": [
       "<div>\n",
       "<style scoped>\n",
       "    .dataframe tbody tr th:only-of-type {\n",
       "        vertical-align: middle;\n",
       "    }\n",
       "\n",
       "    .dataframe tbody tr th {\n",
       "        vertical-align: top;\n",
       "    }\n",
       "\n",
       "    .dataframe thead th {\n",
       "        text-align: right;\n",
       "    }\n",
       "</style>\n",
       "<table border=\"1\" class=\"dataframe\">\n",
       "  <thead>\n",
       "    <tr style=\"text-align: right;\">\n",
       "      <th></th>\n",
       "      <th>硫酸高压循环泵</th>\n",
       "      <th>data</th>\n",
       "    </tr>\n",
       "  </thead>\n",
       "  <tbody>\n",
       "    <tr>\n",
       "      <th>0</th>\n",
       "      <td>36661428</td>\n",
       "      <td>NaN</td>\n",
       "    </tr>\n",
       "    <tr>\n",
       "      <th>1</th>\n",
       "      <td>36661500</td>\n",
       "      <td>72.0</td>\n",
       "    </tr>\n",
       "    <tr>\n",
       "      <th>2</th>\n",
       "      <td>36661608</td>\n",
       "      <td>108.0</td>\n",
       "    </tr>\n",
       "    <tr>\n",
       "      <th>3</th>\n",
       "      <td>36661716</td>\n",
       "      <td>108.0</td>\n",
       "    </tr>\n",
       "    <tr>\n",
       "      <th>4</th>\n",
       "      <td>36661788</td>\n",
       "      <td>72.0</td>\n",
       "    </tr>\n",
       "    <tr>\n",
       "      <th>...</th>\n",
       "      <td>...</td>\n",
       "      <td>...</td>\n",
       "    </tr>\n",
       "    <tr>\n",
       "      <th>145</th>\n",
       "      <td>36675396</td>\n",
       "      <td>72.0</td>\n",
       "    </tr>\n",
       "    <tr>\n",
       "      <th>146</th>\n",
       "      <td>36675504</td>\n",
       "      <td>108.0</td>\n",
       "    </tr>\n",
       "    <tr>\n",
       "      <th>147</th>\n",
       "      <td>36675612</td>\n",
       "      <td>108.0</td>\n",
       "    </tr>\n",
       "    <tr>\n",
       "      <th>148</th>\n",
       "      <td>36675648</td>\n",
       "      <td>36.0</td>\n",
       "    </tr>\n",
       "    <tr>\n",
       "      <th>149</th>\n",
       "      <td>36675792</td>\n",
       "      <td>144.0</td>\n",
       "    </tr>\n",
       "  </tbody>\n",
       "</table>\n",
       "<p>150 rows × 2 columns</p>\n",
       "</div>"
      ],
      "text/plain": [
       "      硫酸高压循环泵   data\n",
       "0    36661428    NaN\n",
       "1    36661500   72.0\n",
       "2    36661608  108.0\n",
       "3    36661716  108.0\n",
       "4    36661788   72.0\n",
       "..        ...    ...\n",
       "145  36675396   72.0\n",
       "146  36675504  108.0\n",
       "147  36675612  108.0\n",
       "148  36675648   36.0\n",
       "149  36675792  144.0\n",
       "\n",
       "[150 rows x 2 columns]"
      ]
     },
     "execution_count": 50,
     "metadata": {},
     "output_type": "execute_result"
    }
   ],
   "source": [
    "dataset"
   ]
  },
  {
   "cell_type": "code",
   "execution_count": 51,
   "id": "frozen-satin",
   "metadata": {},
   "outputs": [
    {
     "data": {
      "text/html": [
       "<div>\n",
       "<style scoped>\n",
       "    .dataframe tbody tr th:only-of-type {\n",
       "        vertical-align: middle;\n",
       "    }\n",
       "\n",
       "    .dataframe tbody tr th {\n",
       "        vertical-align: top;\n",
       "    }\n",
       "\n",
       "    .dataframe thead th {\n",
       "        text-align: right;\n",
       "    }\n",
       "</style>\n",
       "<table border=\"1\" class=\"dataframe\">\n",
       "  <thead>\n",
       "    <tr style=\"text-align: right;\">\n",
       "      <th></th>\n",
       "      <th>硫酸高压循环泵</th>\n",
       "      <th>data</th>\n",
       "    </tr>\n",
       "  </thead>\n",
       "  <tbody>\n",
       "    <tr>\n",
       "      <th>0</th>\n",
       "      <td>36661428</td>\n",
       "      <td>0.0</td>\n",
       "    </tr>\n",
       "    <tr>\n",
       "      <th>1</th>\n",
       "      <td>36661500</td>\n",
       "      <td>72.0</td>\n",
       "    </tr>\n",
       "    <tr>\n",
       "      <th>2</th>\n",
       "      <td>36661608</td>\n",
       "      <td>108.0</td>\n",
       "    </tr>\n",
       "    <tr>\n",
       "      <th>3</th>\n",
       "      <td>36661716</td>\n",
       "      <td>108.0</td>\n",
       "    </tr>\n",
       "    <tr>\n",
       "      <th>4</th>\n",
       "      <td>36661788</td>\n",
       "      <td>72.0</td>\n",
       "    </tr>\n",
       "    <tr>\n",
       "      <th>...</th>\n",
       "      <td>...</td>\n",
       "      <td>...</td>\n",
       "    </tr>\n",
       "    <tr>\n",
       "      <th>145</th>\n",
       "      <td>36675396</td>\n",
       "      <td>72.0</td>\n",
       "    </tr>\n",
       "    <tr>\n",
       "      <th>146</th>\n",
       "      <td>36675504</td>\n",
       "      <td>108.0</td>\n",
       "    </tr>\n",
       "    <tr>\n",
       "      <th>147</th>\n",
       "      <td>36675612</td>\n",
       "      <td>108.0</td>\n",
       "    </tr>\n",
       "    <tr>\n",
       "      <th>148</th>\n",
       "      <td>36675648</td>\n",
       "      <td>36.0</td>\n",
       "    </tr>\n",
       "    <tr>\n",
       "      <th>149</th>\n",
       "      <td>36675792</td>\n",
       "      <td>144.0</td>\n",
       "    </tr>\n",
       "  </tbody>\n",
       "</table>\n",
       "<p>150 rows × 2 columns</p>\n",
       "</div>"
      ],
      "text/plain": [
       "      硫酸高压循环泵   data\n",
       "0    36661428    0.0\n",
       "1    36661500   72.0\n",
       "2    36661608  108.0\n",
       "3    36661716  108.0\n",
       "4    36661788   72.0\n",
       "..        ...    ...\n",
       "145  36675396   72.0\n",
       "146  36675504  108.0\n",
       "147  36675612  108.0\n",
       "148  36675648   36.0\n",
       "149  36675792  144.0\n",
       "\n",
       "[150 rows x 2 columns]"
      ]
     },
     "execution_count": 51,
     "metadata": {},
     "output_type": "execute_result"
    }
   ],
   "source": [
    "dataset = dataset.fillna(0)\n",
    "dataset"
   ]
  },
  {
   "cell_type": "code",
   "execution_count": 52,
   "id": "premium-sponsorship",
   "metadata": {},
   "outputs": [
    {
     "data": {
      "text/plain": [
       "[<matplotlib.lines.Line2D at 0x7feb679610a0>]"
      ]
     },
     "execution_count": 52,
     "metadata": {},
     "output_type": "execute_result"
    },
    {
     "data": {
      "image/png": "[encoded data removed]",
      "text/plain": [
       "<Figure size 432x288 with 1 Axes>"
      ]
     },
     "metadata": {
      "needs_background": "light"
     },
     "output_type": "display_data"
    }
   ],
   "source": [
    "plt.plot(list(range(0,150)),dataset[\"data\"],marker='o',markerfacecolor=\"r\")"
   ]
  },
  {
   "cell_type": "code",
   "execution_count": 53,
   "id": "discrete-nancy",
   "metadata": {},
   "outputs": [],
   "source": [
    "#set variable\n",
    "rs = np.random.RandomState(169)\n",
    "lendata = dataset.shape[0]\n",
    "outliers_fraction = 0.04\n",
    "test_data = []\n",
    "anomaly = []"
   ]
  },
  {
   "cell_type": "code",
   "execution_count": 54,
   "id": "satisfactory-basket",
   "metadata": {},
   "outputs": [],
   "source": [
    "def normalize(dataset,a,b):\n",
    "    scaler = MinMaxScaler(feature_range=(a, b))\n",
    "    normalize_data = scaler.fit_transform(dataset)\n",
    "    return normalize_data"
   ]
  },
  {
   "cell_type": "code",
   "execution_count": 55,
   "id": "later-white",
   "metadata": {},
   "outputs": [],
   "source": [
    "#read dataset x,y\n",
    "x = normalize(pd.DataFrame(dataset, columns=[\"data\"]),-1,1)"
   ]
  },
  {
   "cell_type": "code",
   "execution_count": 56,
   "id": "arbitrary-color",
   "metadata": {},
   "outputs": [],
   "source": [
    "ifm = IsolationForest(n_estimators=100,verbose=2,n_jobs=2,max_samples=lendata,random_state=rs,max_features=1)"
   ]
  },
  {
   "cell_type": "code",
   "execution_count": 57,
   "id": "front-entity",
   "metadata": {},
   "outputs": [
    {
     "name": "stdout",
     "output_type": "stream",
     "text": [
      "Building estimator 1 of 50 for this parallel run (total 100)...Building estimator 1 of 50 for this parallel run (total 100)...\n",
      "\n",
      "Building estimator 2 of 50 for this parallel run (total 100)...Building estimator 2 of 50 for this parallel run (total 100)...\n",
      "\n",
      "Building estimator 3 of 50 for this parallel run (total 100)...Building estimator 3 of 50 for this parallel run (total 100)...\n",
      "\n",
      "Building estimator 4 of 50 for this parallel run (total 100)...Building estimator 4 of 50 for this parallel run (total 100)...\n",
      "\n",
      "Building estimator 5 of 50 for this parallel run (total 100)...Building estimator 5 of 50 for this parallel run (total 100)...\n",
      "\n",
      "Building estimator 6 of 50 for this parallel run (total 100)...Building estimator 6 of 50 for this parallel run (total 100)...\n",
      "\n",
      "Building estimator 7 of 50 for this parallel run (total 100)...Building estimator 7 of 50 for this parallel run (total 100)...\n",
      "\n",
      "Building estimator 8 of 50 for this parallel run (total 100)...Building estimator 8 of 50 for this parallel run (total 100)...\n",
      "\n",
      "Building estimator 9 of 50 for this parallel run (total 100)...Building estimator 9 of 50 for this parallel run (total 100)...\n",
      "\n",
      "Building estimator 10 of 50 for this parallel run (total 100)...Building estimator 10 of 50 for this parallel run (total 100)...\n",
      "\n",
      "Building estimator 11 of 50 for this parallel run (total 100)...Building estimator 11 of 50 for this parallel run (total 100)...\n",
      "\n",
      "Building estimator 12 of 50 for this parallel run (total 100)...Building estimator 12 of 50 for this parallel run (total 100)...\n",
      "\n",
      "Building estimator 13 of 50 for this parallel run (total 100)...Building estimator 13 of 50 for this parallel run (total 100)...\n",
      "\n",
      "Building estimator 14 of 50 for this parallel run (total 100)...Building estimator 14 of 50 for this parallel run (total 100)...\n",
      "\n",
      "Building estimator 15 of 50 for this parallel run (total 100)...Building estimator 15 of 50 for this parallel run (total 100)...\n",
      "\n",
      "Building estimator 16 of 50 for this parallel run (total 100)...Building estimator 16 of 50 for this parallel run (total 100)...\n",
      "\n",
      "Building estimator 17 of 50 for this parallel run (total 100)...Building estimator 17 of 50 for this parallel run (total 100)...\n",
      "\n",
      "Building estimator 18 of 50 for this parallel run (total 100)...\n",
      "Building estimator 18 of 50 for this parallel run (total 100)...\n",
      "Building estimator 19 of 50 for this parallel run (total 100)...\n",
      "Building estimator 19 of 50 for this parallel run (total 100)...\n",
      "Building estimator 20 of 50 for this parallel run (total 100)...Building estimator 20 of 50 for this parallel run (total 100)...\n",
      "\n",
      "Building estimator 21 of 50 for this parallel run (total 100)...Building estimator 21 of 50 for this parallel run (total 100)...\n",
      "\n",
      "Building estimator 22 of 50 for this parallel run (total 100)...\n",
      "Building estimator 22 of 50 for this parallel run (total 100)...\n",
      "Building estimator 23 of 50 for this parallel run (total 100)...Building estimator 23 of 50 for this parallel run (total 100)...\n",
      "\n",
      "Building estimator 24 of 50 for this parallel run (total 100)...Building estimator 24 of 50 for this parallel run (total 100)...\n",
      "\n",
      "Building estimator 25 of 50 for this parallel run (total 100)...Building estimator 25 of 50 for this parallel run (total 100)...\n",
      "\n",
      "Building estimator 26 of 50 for this parallel run (total 100)...Building estimator 26 of 50 for this parallel run (total 100)...\n",
      "\n",
      "Building estimator 27 of 50 for this parallel run (total 100)...Building estimator 27 of 50 for this parallel run (total 100)...\n",
      "\n",
      "Building estimator 28 of 50 for this parallel run (total 100)...Building estimator 28 of 50 for this parallel run (total 100)...\n",
      "\n",
      "Building estimator 29 of 50 for this parallel run (total 100)...Building estimator 29 of 50 for this parallel run (total 100)...\n",
      "\n",
      "Building estimator 30 of 50 for this parallel run (total 100)...Building estimator 30 of 50 for this parallel run (total 100)...\n",
      "\n",
      "Building estimator 31 of 50 for this parallel run (total 100)...Building estimator 31 of 50 for this parallel run (total 100)...\n",
      "\n",
      "Building estimator 32 of 50 for this parallel run (total 100)...Building estimator 32 of 50 for this parallel run (total 100)...\n",
      "\n",
      "Building estimator 33 of 50 for this parallel run (total 100)...\n",
      "Building estimator 33 of 50 for this parallel run (total 100)...\n",
      "Building estimator 34 of 50 for this parallel run (total 100)...Building estimator 34 of 50 for this parallel run (total 100)...\n",
      "\n",
      "Building estimator 35 of 50 for this parallel run (total 100)...Building estimator 35 of 50 for this parallel run (total 100)...\n",
      "\n",
      "Building estimator 36 of 50 for this parallel run (total 100)...\n",
      "Building estimator 36 of 50 for this parallel run (total 100)...\n",
      "Building estimator 37 of 50 for this parallel run (total 100)...\n",
      "Building estimator 37 of 50 for this parallel run (total 100)...\n",
      "Building estimator 38 of 50 for this parallel run (total 100)...Building estimator 38 of 50 for this parallel run (total 100)...\n",
      "\n",
      "Building estimator 39 of 50 for this parallel run (total 100)...Building estimator 39 of 50 for this parallel run (total 100)...\n",
      "\n",
      "Building estimator 40 of 50 for this parallel run (total 100)...Building estimator 40 of 50 for this parallel run (total 100)...\n",
      "\n",
      "Building estimator 41 of 50 for this parallel run (total 100)...Building estimator 41 of 50 for this parallel run (total 100)...\n",
      "\n",
      "Building estimator 42 of 50 for this parallel run (total 100)...Building estimator 42 of 50 for this parallel run (total 100)...\n",
      "\n",
      "Building estimator 43 of 50 for this parallel run (total 100)...Building estimator 43 of 50 for this parallel run (total 100)...\n",
      "\n",
      "Building estimator 44 of 50 for this parallel run (total 100)...Building estimator 44 of 50 for this parallel run (total 100)...\n",
      "\n",
      "Building estimator 45 of 50 for this parallel run (total 100)...Building estimator 45 of 50 for this parallel run (total 100)...\n",
      "\n",
      "Building estimator 46 of 50 for this parallel run (total 100)...Building estimator 46 of 50 for this parallel run (total 100)...\n",
      "\n",
      "Building estimator 47 of 50 for this parallel run (total 100)...Building estimator 47 of 50 for this parallel run (total 100)...\n",
      "\n",
      "Building estimator 48 of 50 for this parallel run (total 100)...Building estimator 48 of 50 for this parallel run (total 100)...\n",
      "\n",
      "Building estimator 49 of 50 for this parallel run (total 100)...Building estimator 49 of 50 for this parallel run (total 100)...\n",
      "\n",
      "Building estimator 50 of 50 for this parallel run (total 100)...Building estimator 50 of 50 for this parallel run (total 100)...\n",
      "\n"
     ]
    },
    {
     "name": "stderr",
     "output_type": "stream",
     "text": [
      "[Parallel(n_jobs=2)]: Using backend ThreadingBackend with 2 concurrent workers.\n",
      "[Parallel(n_jobs=2)]: Done   2 out of   2 | elapsed:    0.2s finished\n"
     ]
    },
    {
     "data": {
      "text/plain": [
       "IsolationForest(max_features=1, max_samples=150, n_jobs=2,\n",
       "                random_state=RandomState(MT19937) at 0x7FEB6794D140, verbose=2)"
      ]
     },
     "execution_count": 57,
     "metadata": {},
     "output_type": "execute_result"
    }
   ],
   "source": [
    "ifm.fit(x)"
   ]
  },
  {
   "cell_type": "code",
   "execution_count": 58,
   "id": "affected-sequence",
   "metadata": {},
   "outputs": [],
   "source": [
    "scores_pred = ifm.decision_function(x)"
   ]
  },
  {
   "cell_type": "code",
   "execution_count": 59,
   "id": "gross-caribbean",
   "metadata": {},
   "outputs": [
    {
     "data": {
      "text/plain": [
       "array([-0.35201686,  0.03353395,  0.05255375,  0.05255375,  0.03353395,\n",
       "       -0.10712468,  0.05255375,  0.03353395,  0.05255375,  0.03353395,\n",
       "        0.05255375,  0.03353395,  0.05255375,  0.05255375,  0.03353395,\n",
       "       -0.10712468,  0.03353395,  0.05255375,  0.03353395,  0.05255375,\n",
       "        0.03353395, -0.10712468, -0.17991035,  0.05255375,  0.05255375,\n",
       "       -0.10712468,  0.03353395,  0.03353395, -0.10712468,  0.03353395,\n",
       "        0.05255375,  0.05255375,  0.03353395,  0.05255375,  0.05255375,\n",
       "        0.03353395,  0.05255375,  0.05255375,  0.03353395,  0.05255375,\n",
       "        0.05255375,  0.05255375,  0.03353395, -0.10712468, -0.17991035,\n",
       "       -0.10712468,  0.03353395,  0.05255375,  0.05255375,  0.03353395,\n",
       "        0.05255375,  0.05255375, -0.17991035, -0.10712468,  0.05255375,\n",
       "        0.03353395,  0.05255375,  0.05255375,  0.03353395,  0.05255375,\n",
       "        0.05255375,  0.03353395,  0.05255375,  0.05255375,  0.03353395,\n",
       "        0.03353395,  0.05255375,  0.05255375,  0.05255375,  0.03353395,\n",
       "        0.05255375,  0.03353395,  0.05255375,  0.03353395,  0.03353395,\n",
       "        0.05255375,  0.05255375,  0.05255375,  0.05255375,  0.03353395,\n",
       "        0.03353395,  0.05255375,  0.05255375,  0.05255375,  0.05255375,\n",
       "        0.05255375,  0.03353395,  0.05255375,  0.05255375,  0.03353395,\n",
       "        0.03353395, -0.10712468,  0.05255375,  0.05255375,  0.05255375,\n",
       "        0.03353395,  0.05255375,  0.03353395,  0.05255375,  0.05255375,\n",
       "        0.05255375,  0.03353395,  0.05255375,  0.03353395,  0.03353395,\n",
       "       -0.10712468,  0.03353395,  0.03353395, -0.10712468,  0.03353395,\n",
       "        0.05255375,  0.03353395,  0.05255375, -0.10712468,  0.05255375,\n",
       "        0.03353395,  0.03353395, -0.10712468,  0.03353395,  0.05255375,\n",
       "        0.05255375,  0.03353395,  0.05255375,  0.03353395, -0.17991035,\n",
       "       -0.10712468,  0.05255375,  0.05255375,  0.03353395,  0.05255375,\n",
       "        0.05255375,  0.05255375,  0.05255375,  0.05255375,  0.05255375,\n",
       "        0.03353395,  0.05255375,  0.03353395,  0.03353395,  0.05255375,\n",
       "        0.05255375,  0.03353395,  0.05255375,  0.03353395,  0.05255375,\n",
       "        0.03353395,  0.05255375,  0.05255375, -0.17991035, -0.10712468])"
      ]
     },
     "execution_count": 59,
     "metadata": {},
     "output_type": "execute_result"
    }
   ],
   "source": [
    "scores_pred"
   ]
  },
  {
   "cell_type": "code",
   "execution_count": 60,
   "id": "radical-forestry",
   "metadata": {},
   "outputs": [],
   "source": [
    "threshold = stats.scoreatpercentile(scores_pred, 100 * outliers_fraction)"
   ]
  },
  {
   "cell_type": "code",
   "execution_count": 61,
   "id": "empty-indicator",
   "metadata": {},
   "outputs": [
    {
     "data": {
      "text/plain": [
       "-0.11003610728985949"
      ]
     },
     "execution_count": 61,
     "metadata": {},
     "output_type": "execute_result"
    }
   ],
   "source": [
    "threshold"
   ]
  },
  {
   "cell_type": "code",
   "execution_count": 62,
   "id": "informed-negotiation",
   "metadata": {},
   "outputs": [
    {
     "data": {
      "image/png": "[encoded data removed]",
      "text/plain": [
       "<Figure size 432x288 with 1 Axes>"
      ]
     },
     "metadata": {
      "needs_background": "light"
     },
     "output_type": "display_data"
    }
   ],
   "source": [
    "plt.title(\"IsolationForest \")\n",
    "for i in scores_pred:\n",
    "    if i <= threshold:\n",
    "        #print(i)\n",
    "        test_data.append(1)\n",
    "        anomaly.append(i)\n",
    "    else:\n",
    "        test_data.append(0)\n",
    "        \n",
    "ano_lable = np.column_stack(((dataset['硫酸高压循环泵'],dataset['data'],x,scores_pred, test_data)))\n",
    "df = pd.DataFrame(data=ano_lable, columns=['硫酸高压循环泵','data','x', 'IsoFst_Score','label'])\n",
    "\n",
    "b = plt.scatter(list(range(0,144)),df['x'][df['label'] == 0], s=20, edgecolor='k',c='white')\n",
    "c = plt.scatter(list(range(0,6)),df['x'][df['label'] == 1], s=20, edgecolor='k',c='black')"
   ]
  },
  {
   "cell_type": "code",
   "execution_count": 63,
   "id": "jewish-batman",
   "metadata": {},
   "outputs": [],
   "source": [
    "ano_lable = np.column_stack(((df['硫酸高压循环泵'],df['data'],x,scores_pred, test_data)))"
   ]
  },
  {
   "cell_type": "code",
   "execution_count": 64,
   "id": "utility-abuse",
   "metadata": {},
   "outputs": [],
   "source": [
    "df = pd.DataFrame(data=ano_lable, columns=['硫酸高压循环泵','data','x', 'IsoFst_Score','label'])"
   ]
  },
  {
   "cell_type": "code",
   "execution_count": 65,
   "id": "artistic-suffering",
   "metadata": {},
   "outputs": [
    {
     "data": {
      "text/html": [
       "<div>\n",
       "<style scoped>\n",
       "    .dataframe tbody tr th:only-of-type {\n",
       "        vertical-align: middle;\n",
       "    }\n",
       "\n",
       "    .dataframe tbody tr th {\n",
       "        vertical-align: top;\n",
       "    }\n",
       "\n",
       "    .dataframe thead th {\n",
       "        text-align: right;\n",
       "    }\n",
       "</style>\n",
       "<table border=\"1\" class=\"dataframe\">\n",
       "  <thead>\n",
       "    <tr style=\"text-align: right;\">\n",
       "      <th></th>\n",
       "      <th>硫酸高压循环泵</th>\n",
       "      <th>data</th>\n",
       "      <th>x</th>\n",
       "      <th>IsoFst_Score</th>\n",
       "      <th>label</th>\n",
       "    </tr>\n",
       "  </thead>\n",
       "  <tbody>\n",
       "    <tr>\n",
       "      <th>0</th>\n",
       "      <td>36661428.0</td>\n",
       "      <td>0.0</td>\n",
       "      <td>-1.0</td>\n",
       "      <td>-0.352017</td>\n",
       "      <td>1.0</td>\n",
       "    </tr>\n",
       "    <tr>\n",
       "      <th>1</th>\n",
       "      <td>36661500.0</td>\n",
       "      <td>72.0</td>\n",
       "      <td>0.0</td>\n",
       "      <td>0.033534</td>\n",
       "      <td>0.0</td>\n",
       "    </tr>\n",
       "    <tr>\n",
       "      <th>2</th>\n",
       "      <td>36661608.0</td>\n",
       "      <td>108.0</td>\n",
       "      <td>0.5</td>\n",
       "      <td>0.052554</td>\n",
       "      <td>0.0</td>\n",
       "    </tr>\n",
       "    <tr>\n",
       "      <th>3</th>\n",
       "      <td>36661716.0</td>\n",
       "      <td>108.0</td>\n",
       "      <td>0.5</td>\n",
       "      <td>0.052554</td>\n",
       "      <td>0.0</td>\n",
       "    </tr>\n",
       "    <tr>\n",
       "      <th>4</th>\n",
       "      <td>36661788.0</td>\n",
       "      <td>72.0</td>\n",
       "      <td>0.0</td>\n",
       "      <td>0.033534</td>\n",
       "      <td>0.0</td>\n",
       "    </tr>\n",
       "    <tr>\n",
       "      <th>...</th>\n",
       "      <td>...</td>\n",
       "      <td>...</td>\n",
       "      <td>...</td>\n",
       "      <td>...</td>\n",
       "      <td>...</td>\n",
       "    </tr>\n",
       "    <tr>\n",
       "      <th>145</th>\n",
       "      <td>36675396.0</td>\n",
       "      <td>72.0</td>\n",
       "      <td>0.0</td>\n",
       "      <td>0.033534</td>\n",
       "      <td>0.0</td>\n",
       "    </tr>\n",
       "    <tr>\n",
       "      <th>146</th>\n",
       "      <td>36675504.0</td>\n",
       "      <td>108.0</td>\n",
       "      <td>0.5</td>\n",
       "      <td>0.052554</td>\n",
       "      <td>0.0</td>\n",
       "    </tr>\n",
       "    <tr>\n",
       "      <th>147</th>\n",
       "      <td>36675612.0</td>\n",
       "      <td>108.0</td>\n",
       "      <td>0.5</td>\n",
       "      <td>0.052554</td>\n",
       "      <td>0.0</td>\n",
       "    </tr>\n",
       "    <tr>\n",
       "      <th>148</th>\n",
       "      <td>36675648.0</td>\n",
       "      <td>36.0</td>\n",
       "      <td>-0.5</td>\n",
       "      <td>-0.179910</td>\n",
       "      <td>1.0</td>\n",
       "    </tr>\n",
       "    <tr>\n",
       "      <th>149</th>\n",
       "      <td>36675792.0</td>\n",
       "      <td>144.0</td>\n",
       "      <td>1.0</td>\n",
       "      <td>-0.107125</td>\n",
       "      <td>0.0</td>\n",
       "    </tr>\n",
       "  </tbody>\n",
       "</table>\n",
       "<p>150 rows × 5 columns</p>\n",
       "</div>"
      ],
      "text/plain": [
       "        硫酸高压循环泵   data    x  IsoFst_Score  label\n",
       "0    36661428.0    0.0 -1.0     -0.352017    1.0\n",
       "1    36661500.0   72.0  0.0      0.033534    0.0\n",
       "2    36661608.0  108.0  0.5      0.052554    0.0\n",
       "3    36661716.0  108.0  0.5      0.052554    0.0\n",
       "4    36661788.0   72.0  0.0      0.033534    0.0\n",
       "..          ...    ...  ...           ...    ...\n",
       "145  36675396.0   72.0  0.0      0.033534    0.0\n",
       "146  36675504.0  108.0  0.5      0.052554    0.0\n",
       "147  36675612.0  108.0  0.5      0.052554    0.0\n",
       "148  36675648.0   36.0 -0.5     -0.179910    1.0\n",
       "149  36675792.0  144.0  1.0     -0.107125    0.0\n",
       "\n",
       "[150 rows x 5 columns]"
      ]
     },
     "execution_count": 65,
     "metadata": {},
     "output_type": "execute_result"
    }
   ],
   "source": [
    "df"
   ]
  },
  {
   "cell_type": "code",
   "execution_count": 66,
   "id": "geological-michigan",
   "metadata": {},
   "outputs": [
    {
     "data": {
      "image/png": "[encoded data removed]",
      "text/plain": [
       "<Figure size 432x288 with 1 Axes>"
      ]
     },
     "metadata": {
      "needs_background": "light"
     },
     "output_type": "display_data"
    }
   ],
   "source": [
    "c = plt.scatter(list(range(0,6)),df['x'][df['label'] == 1], s=20, edgecolor='k',c='black')"
   ]
  },
  {
   "cell_type": "code",
   "execution_count": 67,
   "id": "formal-success",
   "metadata": {},
   "outputs": [
    {
     "name": "stdout",
     "output_type": "stream",
     "text": [
      "孤立森林阈值  ： -0.11003610728985949\n",
      "全量数据样本数： 150 个\n",
      "检测异常样本数： 6 个\n"
     ]
    }
   ],
   "source": [
    "print(\"孤立森林阈值  ：\",threshold)\n",
    "print(\"全量数据样本数：\",len(dataset),\"个\")\n",
    "print(\"检测异常样本数：\",len(anomaly),\"个\")"
   ]
  },
  {
   "cell_type": "code",
   "execution_count": null,
   "id": "dominant-landscape",
   "metadata": {},
   "outputs": [],
   "source": []
  }
 ],
 "metadata": {
  "kernelspec": {
   "display_name": "Python 3",
   "language": "python",
   "name": "python3"
  },
  "language_info": {
   "codemirror_mode": {
    "name": "ipython",
    "version": 3
   },
   "file_extension": ".py",
   "mimetype": "text/x-python",
   "name": "python",
   "nbconvert_exporter": "python",
   "pygments_lexer": "ipython3",
   "version": "3.8.5"
  }
 },
 "nbformat": 4,
 "nbformat_minor": 5
}
