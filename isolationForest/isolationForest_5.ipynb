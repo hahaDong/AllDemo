{
 "cells": [
  {
   "cell_type": "markdown",
   "id": "preliminary-literacy",
   "metadata": {},
   "source": [
    "### data5数据"
   ]
  },
  {
   "cell_type": "code",
   "execution_count": null,
   "id": "legal-sussex",
   "metadata": {},
   "outputs": [],
   "source": [
    "import pandas as pd\n",
    "import numpy as np\n",
    "from sklearn.ensemble import IsolationForest\n",
    "import matplotlib.pyplot as plt\n",
    "from scipy import stats\n",
    "from sklearn.preprocessing import MinMaxScaler"
   ]
  },
  {
   "cell_type": "code",
   "execution_count": 34,
   "id": "curious-edmonton",
   "metadata": {},
   "outputs": [],
   "source": [
    "dataset = pd.read_csv('data/data5.csv',engine='python')"
   ]
  },
  {
   "cell_type": "code",
   "execution_count": 35,
   "id": "soviet-strike",
   "metadata": {},
   "outputs": [
    {
     "data": {
      "text/html": [
       "<div>\n",
       "<style scoped>\n",
       "    .dataframe tbody tr th:only-of-type {\n",
       "        vertical-align: middle;\n",
       "    }\n",
       "\n",
       "    .dataframe tbody tr th {\n",
       "        vertical-align: top;\n",
       "    }\n",
       "\n",
       "    .dataframe thead th {\n",
       "        text-align: right;\n",
       "    }\n",
       "</style>\n",
       "<table border=\"1\" class=\"dataframe\">\n",
       "  <thead>\n",
       "    <tr style=\"text-align: right;\">\n",
       "      <th></th>\n",
       "      <th>GM风机II回</th>\n",
       "      <th>data</th>\n",
       "    </tr>\n",
       "  </thead>\n",
       "  <tbody>\n",
       "    <tr>\n",
       "      <th>0</th>\n",
       "      <td>70500888</td>\n",
       "      <td>NaN</td>\n",
       "    </tr>\n",
       "    <tr>\n",
       "      <th>1</th>\n",
       "      <td>70501032</td>\n",
       "      <td>144.0</td>\n",
       "    </tr>\n",
       "    <tr>\n",
       "      <th>2</th>\n",
       "      <td>70501104</td>\n",
       "      <td>72.0</td>\n",
       "    </tr>\n",
       "    <tr>\n",
       "      <th>3</th>\n",
       "      <td>70501320</td>\n",
       "      <td>216.0</td>\n",
       "    </tr>\n",
       "    <tr>\n",
       "      <th>4</th>\n",
       "      <td>70501464</td>\n",
       "      <td>144.0</td>\n",
       "    </tr>\n",
       "    <tr>\n",
       "      <th>...</th>\n",
       "      <td>...</td>\n",
       "      <td>...</td>\n",
       "    </tr>\n",
       "    <tr>\n",
       "      <th>145</th>\n",
       "      <td>70523496</td>\n",
       "      <td>144.0</td>\n",
       "    </tr>\n",
       "    <tr>\n",
       "      <th>146</th>\n",
       "      <td>70523640</td>\n",
       "      <td>144.0</td>\n",
       "    </tr>\n",
       "    <tr>\n",
       "      <th>147</th>\n",
       "      <td>70523856</td>\n",
       "      <td>216.0</td>\n",
       "    </tr>\n",
       "    <tr>\n",
       "      <th>148</th>\n",
       "      <td>70523928</td>\n",
       "      <td>72.0</td>\n",
       "    </tr>\n",
       "    <tr>\n",
       "      <th>149</th>\n",
       "      <td>70524144</td>\n",
       "      <td>216.0</td>\n",
       "    </tr>\n",
       "  </tbody>\n",
       "</table>\n",
       "<p>150 rows × 2 columns</p>\n",
       "</div>"
      ],
      "text/plain": [
       "      GM风机II回   data\n",
       "0    70500888    NaN\n",
       "1    70501032  144.0\n",
       "2    70501104   72.0\n",
       "3    70501320  216.0\n",
       "4    70501464  144.0\n",
       "..        ...    ...\n",
       "145  70523496  144.0\n",
       "146  70523640  144.0\n",
       "147  70523856  216.0\n",
       "148  70523928   72.0\n",
       "149  70524144  216.0\n",
       "\n",
       "[150 rows x 2 columns]"
      ]
     },
     "execution_count": 35,
     "metadata": {},
     "output_type": "execute_result"
    }
   ],
   "source": [
    "dataset"
   ]
  },
  {
   "cell_type": "code",
   "execution_count": 36,
   "id": "alternate-weapon",
   "metadata": {},
   "outputs": [
    {
     "data": {
      "text/html": [
       "<div>\n",
       "<style scoped>\n",
       "    .dataframe tbody tr th:only-of-type {\n",
       "        vertical-align: middle;\n",
       "    }\n",
       "\n",
       "    .dataframe tbody tr th {\n",
       "        vertical-align: top;\n",
       "    }\n",
       "\n",
       "    .dataframe thead th {\n",
       "        text-align: right;\n",
       "    }\n",
       "</style>\n",
       "<table border=\"1\" class=\"dataframe\">\n",
       "  <thead>\n",
       "    <tr style=\"text-align: right;\">\n",
       "      <th></th>\n",
       "      <th>GM风机II回</th>\n",
       "      <th>data</th>\n",
       "    </tr>\n",
       "  </thead>\n",
       "  <tbody>\n",
       "    <tr>\n",
       "      <th>0</th>\n",
       "      <td>70500888</td>\n",
       "      <td>0.0</td>\n",
       "    </tr>\n",
       "    <tr>\n",
       "      <th>1</th>\n",
       "      <td>70501032</td>\n",
       "      <td>144.0</td>\n",
       "    </tr>\n",
       "    <tr>\n",
       "      <th>2</th>\n",
       "      <td>70501104</td>\n",
       "      <td>72.0</td>\n",
       "    </tr>\n",
       "    <tr>\n",
       "      <th>3</th>\n",
       "      <td>70501320</td>\n",
       "      <td>216.0</td>\n",
       "    </tr>\n",
       "    <tr>\n",
       "      <th>4</th>\n",
       "      <td>70501464</td>\n",
       "      <td>144.0</td>\n",
       "    </tr>\n",
       "    <tr>\n",
       "      <th>...</th>\n",
       "      <td>...</td>\n",
       "      <td>...</td>\n",
       "    </tr>\n",
       "    <tr>\n",
       "      <th>145</th>\n",
       "      <td>70523496</td>\n",
       "      <td>144.0</td>\n",
       "    </tr>\n",
       "    <tr>\n",
       "      <th>146</th>\n",
       "      <td>70523640</td>\n",
       "      <td>144.0</td>\n",
       "    </tr>\n",
       "    <tr>\n",
       "      <th>147</th>\n",
       "      <td>70523856</td>\n",
       "      <td>216.0</td>\n",
       "    </tr>\n",
       "    <tr>\n",
       "      <th>148</th>\n",
       "      <td>70523928</td>\n",
       "      <td>72.0</td>\n",
       "    </tr>\n",
       "    <tr>\n",
       "      <th>149</th>\n",
       "      <td>70524144</td>\n",
       "      <td>216.0</td>\n",
       "    </tr>\n",
       "  </tbody>\n",
       "</table>\n",
       "<p>150 rows × 2 columns</p>\n",
       "</div>"
      ],
      "text/plain": [
       "      GM风机II回   data\n",
       "0    70500888    0.0\n",
       "1    70501032  144.0\n",
       "2    70501104   72.0\n",
       "3    70501320  216.0\n",
       "4    70501464  144.0\n",
       "..        ...    ...\n",
       "145  70523496  144.0\n",
       "146  70523640  144.0\n",
       "147  70523856  216.0\n",
       "148  70523928   72.0\n",
       "149  70524144  216.0\n",
       "\n",
       "[150 rows x 2 columns]"
      ]
     },
     "execution_count": 36,
     "metadata": {},
     "output_type": "execute_result"
    }
   ],
   "source": [
    "dataset = dataset.fillna(0)\n",
    "dataset"
   ]
  },
  {
   "cell_type": "code",
   "execution_count": 37,
   "id": "dying-malaysia",
   "metadata": {},
   "outputs": [
    {
     "data": {
      "text/plain": [
       "[<matplotlib.lines.Line2D at 0x7fd1b90c2fa0>]"
      ]
     },
     "execution_count": 37,
     "metadata": {},
     "output_type": "execute_result"
    },
    {
     "data": {
      "image/png": "[encoded data removed]",
      "text/plain": [
       "<Figure size 432x288 with 1 Axes>"
      ]
     },
     "metadata": {
      "needs_background": "light"
     },
     "output_type": "display_data"
    }
   ],
   "source": [
    "plt.plot(list(range(0,150)),dataset[\"data\"],marker='o',markerfacecolor=\"r\")"
   ]
  },
  {
   "cell_type": "code",
   "execution_count": 38,
   "id": "cellular-trail",
   "metadata": {},
   "outputs": [],
   "source": [
    "#set variable\n",
    "rs = np.random.RandomState(169)\n",
    "lendata = dataset.shape[0]\n",
    "outliers_fraction = 0.03\n",
    "test_data = []\n",
    "anomaly = []"
   ]
  },
  {
   "cell_type": "code",
   "execution_count": 39,
   "id": "wanted-medium",
   "metadata": {},
   "outputs": [],
   "source": [
    "def normalize(dataset,a,b):\n",
    "    scaler = MinMaxScaler(feature_range=(a, b))\n",
    "    normalize_data = scaler.fit_transform(dataset)\n",
    "    return normalize_data"
   ]
  },
  {
   "cell_type": "code",
   "execution_count": 40,
   "id": "secondary-football",
   "metadata": {},
   "outputs": [],
   "source": [
    "#read dataset x,y\n",
    "x = normalize(pd.DataFrame(dataset, columns=[\"data\"]),-1,1)"
   ]
  },
  {
   "cell_type": "code",
   "execution_count": 41,
   "id": "twenty-diameter",
   "metadata": {},
   "outputs": [],
   "source": [
    "ifm = IsolationForest(n_estimators=100,verbose=2,n_jobs=2,max_samples=lendata,random_state=rs,max_features=1)"
   ]
  },
  {
   "cell_type": "code",
   "execution_count": 42,
   "id": "standard-intelligence",
   "metadata": {},
   "outputs": [
    {
     "name": "stdout",
     "output_type": "stream",
     "text": [
      "Building estimator 1 of 50 for this parallel run (total 100)...Building estimator 1 of 50 for this parallel run (total 100)...\n",
      "\n",
      "Building estimator 2 of 50 for this parallel run (total 100)...Building estimator 2 of 50 for this parallel run (total 100)...\n",
      "\n",
      "Building estimator 3 of 50 for this parallel run (total 100)...Building estimator 3 of 50 for this parallel run (total 100)...\n",
      "\n",
      "Building estimator 4 of 50 for this parallel run (total 100)...Building estimator 4 of 50 for this parallel run (total 100)...\n",
      "\n",
      "Building estimator 5 of 50 for this parallel run (total 100)...Building estimator 5 of 50 for this parallel run (total 100)...\n",
      "\n",
      "Building estimator 6 of 50 for this parallel run (total 100)...Building estimator 6 of 50 for this parallel run (total 100)...\n",
      "\n",
      "Building estimator 7 of 50 for this parallel run (total 100)...Building estimator 7 of 50 for this parallel run (total 100)...\n",
      "\n",
      "Building estimator 8 of 50 for this parallel run (total 100)...Building estimator 8 of 50 for this parallel run (total 100)...\n",
      "\n",
      "Building estimator 9 of 50 for this parallel run (total 100)...Building estimator 9 of 50 for this parallel run (total 100)...\n",
      "\n",
      "Building estimator 10 of 50 for this parallel run (total 100)...Building estimator 10 of 50 for this parallel run (total 100)...\n",
      "\n",
      "Building estimator 11 of 50 for this parallel run (total 100)...Building estimator 11 of 50 for this parallel run (total 100)...\n",
      "\n",
      "Building estimator 12 of 50 for this parallel run (total 100)...Building estimator 12 of 50 for this parallel run (total 100)...\n",
      "\n",
      "Building estimator 13 of 50 for this parallel run (total 100)...Building estimator 13 of 50 for this parallel run (total 100)...\n",
      "\n",
      "Building estimator 14 of 50 for this parallel run (total 100)...Building estimator 14 of 50 for this parallel run (total 100)...\n",
      "\n",
      "Building estimator 15 of 50 for this parallel run (total 100)...Building estimator 15 of 50 for this parallel run (total 100)...\n",
      "\n",
      "Building estimator 16 of 50 for this parallel run (total 100)...Building estimator 16 of 50 for this parallel run (total 100)...\n",
      "\n",
      "Building estimator 17 of 50 for this parallel run (total 100)...Building estimator 17 of 50 for this parallel run (total 100)...\n",
      "\n",
      "Building estimator 18 of 50 for this parallel run (total 100)...\n",
      "Building estimator 18 of 50 for this parallel run (total 100)...\n",
      "Building estimator 19 of 50 for this parallel run (total 100)...\n",
      "Building estimator 19 of 50 for this parallel run (total 100)...\n",
      "Building estimator 20 of 50 for this parallel run (total 100)...Building estimator 20 of 50 for this parallel run (total 100)...\n",
      "\n",
      "Building estimator 21 of 50 for this parallel run (total 100)...Building estimator 21 of 50 for this parallel run (total 100)...\n",
      "\n",
      "Building estimator 22 of 50 for this parallel run (total 100)...Building estimator 22 of 50 for this parallel run (total 100)...\n",
      "\n",
      "Building estimator 23 of 50 for this parallel run (total 100)...Building estimator 23 of 50 for this parallel run (total 100)...\n",
      "\n",
      "Building estimator 24 of 50 for this parallel run (total 100)...Building estimator 24 of 50 for this parallel run (total 100)...\n",
      "\n",
      "Building estimator 25 of 50 for this parallel run (total 100)...Building estimator 25 of 50 for this parallel run (total 100)...\n",
      "\n",
      "Building estimator 26 of 50 for this parallel run (total 100)...Building estimator 26 of 50 for this parallel run (total 100)...\n",
      "\n",
      "Building estimator 27 of 50 for this parallel run (total 100)...Building estimator 27 of 50 for this parallel run (total 100)...\n",
      "\n",
      "Building estimator 28 of 50 for this parallel run (total 100)...\n",
      "Building estimator 28 of 50 for this parallel run (total 100)...\n",
      "Building estimator 29 of 50 for this parallel run (total 100)...Building estimator 29 of 50 for this parallel run (total 100)...\n",
      "\n",
      "Building estimator 30 of 50 for this parallel run (total 100)...Building estimator 30 of 50 for this parallel run (total 100)...\n",
      "\n",
      "Building estimator 31 of 50 for this parallel run (total 100)...Building estimator 31 of 50 for this parallel run (total 100)...\n",
      "\n",
      "Building estimator 32 of 50 for this parallel run (total 100)...Building estimator 32 of 50 for this parallel run (total 100)...\n",
      "\n",
      "Building estimator 33 of 50 for this parallel run (total 100)...Building estimator 33 of 50 for this parallel run (total 100)...\n",
      "\n",
      "Building estimator 34 of 50 for this parallel run (total 100)...\n",
      "Building estimator 34 of 50 for this parallel run (total 100)...\n",
      "Building estimator 35 of 50 for this parallel run (total 100)...\n",
      "Building estimator 35 of 50 for this parallel run (total 100)...\n",
      "Building estimator 36 of 50 for this parallel run (total 100)...\n",
      "Building estimator 37 of 50 for this parallel run (total 100)...Building estimator 36 of 50 for this parallel run (total 100)...\n",
      "\n",
      "Building estimator 37 of 50 for this parallel run (total 100)...Building estimator 38 of 50 for this parallel run (total 100)...\n",
      "\n",
      "Building estimator 39 of 50 for this parallel run (total 100)...Building estimator 38 of 50 for this parallel run (total 100)...\n",
      "\n",
      "Building estimator 39 of 50 for this parallel run (total 100)...Building estimator 40 of 50 for this parallel run (total 100)...\n",
      "\n",
      "Building estimator 40 of 50 for this parallel run (total 100)...Building estimator 41 of 50 for this parallel run (total 100)...\n",
      "\n",
      "Building estimator 41 of 50 for this parallel run (total 100)...Building estimator 42 of 50 for this parallel run (total 100)...\n",
      "\n",
      "Building estimator 42 of 50 for this parallel run (total 100)...Building estimator 43 of 50 for this parallel run (total 100)...\n",
      "\n",
      "Building estimator 44 of 50 for this parallel run (total 100)...Building estimator 43 of 50 for this parallel run (total 100)...\n",
      "\n",
      "Building estimator 44 of 50 for this parallel run (total 100)...Building estimator 45 of 50 for this parallel run (total 100)...\n",
      "\n",
      "Building estimator 45 of 50 for this parallel run (total 100)...Building estimator 46 of 50 for this parallel run (total 100)...\n",
      "\n",
      "Building estimator 46 of 50 for this parallel run (total 100)...Building estimator 47 of 50 for this parallel run (total 100)...\n",
      "\n",
      "Building estimator 48 of 50 for this parallel run (total 100)...Building estimator 47 of 50 for this parallel run (total 100)...\n",
      "\n",
      "Building estimator 48 of 50 for this parallel run (total 100)...\n",
      "Building estimator 49 of 50 for this parallel run (total 100)...Building estimator 49 of 50 for this parallel run (total 100)...\n",
      "\n",
      "Building estimator 50 of 50 for this parallel run (total 100)...Building estimator 50 of 50 for this parallel run (total 100)...\n",
      "\n"
     ]
    },
    {
     "name": "stderr",
     "output_type": "stream",
     "text": [
      "[Parallel(n_jobs=2)]: Using backend ThreadingBackend with 2 concurrent workers.\n",
      "[Parallel(n_jobs=2)]: Done   2 out of   2 | elapsed:    0.2s finished\n"
     ]
    },
    {
     "data": {
      "text/plain": [
       "IsolationForest(max_features=1, max_samples=150, n_jobs=2,\n",
       "                random_state=RandomState(MT19937) at 0x7FD1BA051240, verbose=2)"
      ]
     },
     "execution_count": 42,
     "metadata": {},
     "output_type": "execute_result"
    }
   ],
   "source": [
    "ifm.fit(x)"
   ]
  },
  {
   "cell_type": "code",
   "execution_count": 43,
   "id": "searching-animal",
   "metadata": {},
   "outputs": [],
   "source": [
    "scores_pred = ifm.decision_function(x)"
   ]
  },
  {
   "cell_type": "code",
   "execution_count": 44,
   "id": "bacterial-defeat",
   "metadata": {},
   "outputs": [
    {
     "data": {
      "text/plain": [
       "array([-0.35201686,  0.05369704, -0.02520192,  0.02332532,  0.05369704,\n",
       "       -0.02520192,  0.02332532,  0.05369704,  0.05369704,  0.02332532,\n",
       "       -0.02520192,  0.05369704,  0.02332532,  0.02332532, -0.02520192,\n",
       "        0.02332532,  0.05369704,  0.05369704,  0.05369704,  0.05369704,\n",
       "        0.05369704, -0.02520192,  0.02332532, -0.02520192,  0.02332532,\n",
       "        0.05369704,  0.02332532,  0.05369704,  0.02332532, -0.02520192,\n",
       "        0.02332532, -0.02520192,  0.02332532,  0.02332532, -0.02520192,\n",
       "        0.05369704,  0.02332532,  0.05369704,  0.05369704,  0.02332532,\n",
       "       -0.02520192,  0.02332532,  0.05369704,  0.05369704,  0.02332532,\n",
       "        0.05369704,  0.05369704,  0.05369704,  0.05369704,  0.05369704,\n",
       "        0.05369704,  0.05369704,  0.02332532,  0.05369704,  0.05369704,\n",
       "        0.02332532,  0.05369704,  0.05369704,  0.02332532,  0.05369704,\n",
       "       -0.02520192,  0.05369704,  0.02332532,  0.05369704,  0.02332532,\n",
       "        0.05369704,  0.02332532, -0.02520192,  0.02332532,  0.05369704,\n",
       "        0.05369704,  0.05369704,  0.05369704, -0.02520192,  0.02332532,\n",
       "        0.05369704,  0.02332532, -0.02520192,  0.02332532,  0.05369704,\n",
       "       -0.02520192,  0.02332532,  0.02332532, -0.02520192,  0.05369704,\n",
       "        0.02332532,  0.05369704,  0.05369704,  0.05369704,  0.05369704,\n",
       "        0.02332532, -0.02520192,  0.02332532,  0.05369704, -0.02520192,\n",
       "        0.02332532,  0.05369704,  0.05369704, -0.02520192,  0.05369704,\n",
       "        0.02332532,  0.05369704,  0.02332532,  0.05369704,  0.05369704,\n",
       "        0.02332532, -0.02520192,  0.02332532,  0.05369704, -0.02520192,\n",
       "        0.02332532,  0.05369704,  0.05369704,  0.05369704, -0.35718149,\n",
       "        0.05369704,  0.05369704,  0.05369704,  0.02332532, -0.02520192,\n",
       "        0.02332532,  0.05369704,  0.02332532, -0.02520192,  0.02332532,\n",
       "        0.05369704,  0.05369704,  0.05369704,  0.05369704,  0.05369704,\n",
       "        0.02332532,  0.05369704,  0.02332532, -0.02520192,  0.02332532,\n",
       "        0.05369704,  0.05369704, -0.02520192,  0.02332532,  0.05369704,\n",
       "        0.02332532, -0.02520192,  0.02332532,  0.05369704,  0.05369704,\n",
       "        0.05369704,  0.05369704,  0.02332532, -0.02520192,  0.02332532])"
      ]
     },
     "execution_count": 44,
     "metadata": {},
     "output_type": "execute_result"
    }
   ],
   "source": [
    "scores_pred"
   ]
  },
  {
   "cell_type": "code",
   "execution_count": 45,
   "id": "blond-crest",
   "metadata": {},
   "outputs": [],
   "source": [
    "threshold = stats.scoreatpercentile(scores_pred, 100 * outliers_fraction)"
   ]
  },
  {
   "cell_type": "code",
   "execution_count": 46,
   "id": "better-chassis",
   "metadata": {},
   "outputs": [
    {
     "data": {
      "text/plain": [
       "-0.025201923547723326"
      ]
     },
     "execution_count": 46,
     "metadata": {},
     "output_type": "execute_result"
    }
   ],
   "source": [
    "threshold"
   ]
  },
  {
   "cell_type": "code",
   "execution_count": 47,
   "id": "under-abraham",
   "metadata": {},
   "outputs": [
    {
     "data": {
      "image/png": "[encoded data removed]",
      "text/plain": [
       "<Figure size 432x288 with 1 Axes>"
      ]
     },
     "metadata": {
      "needs_background": "light"
     },
     "output_type": "display_data"
    }
   ],
   "source": [
    "plt.title(\"IsolationForest \")\n",
    "for i in scores_pred:\n",
    "    if i <= threshold:\n",
    "        #print(i)\n",
    "        test_data.append(1)\n",
    "        anomaly.append(i)\n",
    "    else:\n",
    "        test_data.append(0)\n",
    "        \n",
    "ano_lable = np.column_stack(((dataset['GM风机II回'],dataset['data'],x,scores_pred, test_data)))\n",
    "df = pd.DataFrame(data=ano_lable, columns=['GM风机II回','data','x', 'IsoFst_Score','label'])\n",
    "\n",
    "b = plt.scatter(list(range(0,121)),df['x'][df['label'] == 0], s=20, edgecolor='k',c='white')\n",
    "c = plt.scatter(list(range(0,29)),df['x'][df['label'] == 1], s=20, edgecolor='k',c='black')"
   ]
  },
  {
   "cell_type": "code",
   "execution_count": 48,
   "id": "cross-gnome",
   "metadata": {},
   "outputs": [],
   "source": [
    "ano_lable = np.column_stack(((df['GM风机II回'],df['data'],x,scores_pred, test_data)))"
   ]
  },
  {
   "cell_type": "code",
   "execution_count": 49,
   "id": "irish-housing",
   "metadata": {},
   "outputs": [],
   "source": [
    "df = pd.DataFrame(data=ano_lable, columns=['GM风机II回','data','x', 'IsoFst_Score','label'])"
   ]
  },
  {
   "cell_type": "code",
   "execution_count": 50,
   "id": "democratic-delta",
   "metadata": {},
   "outputs": [
    {
     "data": {
      "text/html": [
       "<div>\n",
       "<style scoped>\n",
       "    .dataframe tbody tr th:only-of-type {\n",
       "        vertical-align: middle;\n",
       "    }\n",
       "\n",
       "    .dataframe tbody tr th {\n",
       "        vertical-align: top;\n",
       "    }\n",
       "\n",
       "    .dataframe thead th {\n",
       "        text-align: right;\n",
       "    }\n",
       "</style>\n",
       "<table border=\"1\" class=\"dataframe\">\n",
       "  <thead>\n",
       "    <tr style=\"text-align: right;\">\n",
       "      <th></th>\n",
       "      <th>GM风机II回</th>\n",
       "      <th>data</th>\n",
       "      <th>x</th>\n",
       "      <th>IsoFst_Score</th>\n",
       "      <th>label</th>\n",
       "    </tr>\n",
       "  </thead>\n",
       "  <tbody>\n",
       "    <tr>\n",
       "      <th>0</th>\n",
       "      <td>70500888.0</td>\n",
       "      <td>0.0</td>\n",
       "      <td>-1.0</td>\n",
       "      <td>-0.352017</td>\n",
       "      <td>1.0</td>\n",
       "    </tr>\n",
       "    <tr>\n",
       "      <th>1</th>\n",
       "      <td>70501032.0</td>\n",
       "      <td>144.0</td>\n",
       "      <td>0.0</td>\n",
       "      <td>0.053697</td>\n",
       "      <td>0.0</td>\n",
       "    </tr>\n",
       "    <tr>\n",
       "      <th>2</th>\n",
       "      <td>70501104.0</td>\n",
       "      <td>72.0</td>\n",
       "      <td>-0.5</td>\n",
       "      <td>-0.025202</td>\n",
       "      <td>1.0</td>\n",
       "    </tr>\n",
       "    <tr>\n",
       "      <th>3</th>\n",
       "      <td>70501320.0</td>\n",
       "      <td>216.0</td>\n",
       "      <td>0.5</td>\n",
       "      <td>0.023325</td>\n",
       "      <td>0.0</td>\n",
       "    </tr>\n",
       "    <tr>\n",
       "      <th>4</th>\n",
       "      <td>70501464.0</td>\n",
       "      <td>144.0</td>\n",
       "      <td>0.0</td>\n",
       "      <td>0.053697</td>\n",
       "      <td>0.0</td>\n",
       "    </tr>\n",
       "    <tr>\n",
       "      <th>...</th>\n",
       "      <td>...</td>\n",
       "      <td>...</td>\n",
       "      <td>...</td>\n",
       "      <td>...</td>\n",
       "      <td>...</td>\n",
       "    </tr>\n",
       "    <tr>\n",
       "      <th>145</th>\n",
       "      <td>70523496.0</td>\n",
       "      <td>144.0</td>\n",
       "      <td>0.0</td>\n",
       "      <td>0.053697</td>\n",
       "      <td>0.0</td>\n",
       "    </tr>\n",
       "    <tr>\n",
       "      <th>146</th>\n",
       "      <td>70523640.0</td>\n",
       "      <td>144.0</td>\n",
       "      <td>0.0</td>\n",
       "      <td>0.053697</td>\n",
       "      <td>0.0</td>\n",
       "    </tr>\n",
       "    <tr>\n",
       "      <th>147</th>\n",
       "      <td>70523856.0</td>\n",
       "      <td>216.0</td>\n",
       "      <td>0.5</td>\n",
       "      <td>0.023325</td>\n",
       "      <td>0.0</td>\n",
       "    </tr>\n",
       "    <tr>\n",
       "      <th>148</th>\n",
       "      <td>70523928.0</td>\n",
       "      <td>72.0</td>\n",
       "      <td>-0.5</td>\n",
       "      <td>-0.025202</td>\n",
       "      <td>1.0</td>\n",
       "    </tr>\n",
       "    <tr>\n",
       "      <th>149</th>\n",
       "      <td>70524144.0</td>\n",
       "      <td>216.0</td>\n",
       "      <td>0.5</td>\n",
       "      <td>0.023325</td>\n",
       "      <td>0.0</td>\n",
       "    </tr>\n",
       "  </tbody>\n",
       "</table>\n",
       "<p>150 rows × 5 columns</p>\n",
       "</div>"
      ],
      "text/plain": [
       "        GM风机II回   data    x  IsoFst_Score  label\n",
       "0    70500888.0    0.0 -1.0     -0.352017    1.0\n",
       "1    70501032.0  144.0  0.0      0.053697    0.0\n",
       "2    70501104.0   72.0 -0.5     -0.025202    1.0\n",
       "3    70501320.0  216.0  0.5      0.023325    0.0\n",
       "4    70501464.0  144.0  0.0      0.053697    0.0\n",
       "..          ...    ...  ...           ...    ...\n",
       "145  70523496.0  144.0  0.0      0.053697    0.0\n",
       "146  70523640.0  144.0  0.0      0.053697    0.0\n",
       "147  70523856.0  216.0  0.5      0.023325    0.0\n",
       "148  70523928.0   72.0 -0.5     -0.025202    1.0\n",
       "149  70524144.0  216.0  0.5      0.023325    0.0\n",
       "\n",
       "[150 rows x 5 columns]"
      ]
     },
     "execution_count": 50,
     "metadata": {},
     "output_type": "execute_result"
    }
   ],
   "source": [
    "df"
   ]
  },
  {
   "cell_type": "code",
   "execution_count": 51,
   "id": "weighted-finish",
   "metadata": {},
   "outputs": [
    {
     "data": {
      "image/png": "[encoded data removed]",
      "text/plain": [
       "<Figure size 432x288 with 1 Axes>"
      ]
     },
     "metadata": {
      "needs_background": "light"
     },
     "output_type": "display_data"
    }
   ],
   "source": [
    "c = plt.scatter(list(range(0,29)),df['x'][df['label'] == 1], s=20, edgecolor='k',c='black')"
   ]
  },
  {
   "cell_type": "code",
   "execution_count": 52,
   "id": "speaking-decade",
   "metadata": {},
   "outputs": [
    {
     "name": "stdout",
     "output_type": "stream",
     "text": [
      "孤立森林阈值  ： -0.025201923547723326\n",
      "全量数据样本数： 150 个\n",
      "检测异常样本数： 29 个\n"
     ]
    }
   ],
   "source": [
    "print(\"孤立森林阈值  ：\",threshold)\n",
    "print(\"全量数据样本数：\",len(dataset),\"个\")\n",
    "print(\"检测异常样本数：\",len(anomaly),\"个\")"
   ]
  },
  {
   "cell_type": "code",
   "execution_count": null,
   "id": "relevant-kuwait",
   "metadata": {},
   "outputs": [],
   "source": []
  }
 ],
 "metadata": {
  "kernelspec": {
   "display_name": "Python 3",
   "language": "python",
   "name": "python3"
  },
  "language_info": {
   "codemirror_mode": {
    "name": "ipython",
    "version": 3
   },
   "file_extension": ".py",
   "mimetype": "text/x-python",
   "name": "python",
   "nbconvert_exporter": "python",
   "pygments_lexer": "ipython3",
   "version": "3.8.5"
  }
 },
 "nbformat": 4,
 "nbformat_minor": 5
}
