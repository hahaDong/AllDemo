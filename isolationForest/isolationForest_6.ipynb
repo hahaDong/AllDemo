{
 "cells": [
  {
   "cell_type": "markdown",
   "id": "alone-overview",
   "metadata": {},
   "source": [
    "### data6数据"
   ]
  },
  {
   "cell_type": "code",
   "execution_count": 37,
   "id": "medium-simple",
   "metadata": {},
   "outputs": [],
   "source": [
    "import pandas as pd\n",
    "import numpy as np\n",
    "from sklearn.ensemble import IsolationForest\n",
    "import matplotlib.pyplot as plt\n",
    "from scipy import stats\n",
    "from sklearn.preprocessing import MinMaxScaler"
   ]
  },
  {
   "cell_type": "code",
   "execution_count": 38,
   "id": "simple-minneapolis",
   "metadata": {},
   "outputs": [],
   "source": [
    "dataset = pd.read_csv('data/data6.csv',engine='python')"
   ]
  },
  {
   "cell_type": "code",
   "execution_count": 39,
   "id": "reliable-ministry",
   "metadata": {},
   "outputs": [
    {
     "data": {
      "text/html": [
       "<div>\n",
       "<style scoped>\n",
       "    .dataframe tbody tr th:only-of-type {\n",
       "        vertical-align: middle;\n",
       "    }\n",
       "\n",
       "    .dataframe tbody tr th {\n",
       "        vertical-align: top;\n",
       "    }\n",
       "\n",
       "    .dataframe thead th {\n",
       "        text-align: right;\n",
       "    }\n",
       "</style>\n",
       "<table border=\"1\" class=\"dataframe\">\n",
       "  <thead>\n",
       "    <tr style=\"text-align: right;\">\n",
       "      <th></th>\n",
       "      <th>GM风机I回</th>\n",
       "      <th>data</th>\n",
       "    </tr>\n",
       "  </thead>\n",
       "  <tbody>\n",
       "    <tr>\n",
       "      <th>0</th>\n",
       "      <td>67085640</td>\n",
       "      <td>NaN</td>\n",
       "    </tr>\n",
       "    <tr>\n",
       "      <th>1</th>\n",
       "      <td>67085860</td>\n",
       "      <td>220.0</td>\n",
       "    </tr>\n",
       "    <tr>\n",
       "      <th>2</th>\n",
       "      <td>67086000</td>\n",
       "      <td>140.0</td>\n",
       "    </tr>\n",
       "    <tr>\n",
       "      <th>3</th>\n",
       "      <td>67086072</td>\n",
       "      <td>72.0</td>\n",
       "    </tr>\n",
       "    <tr>\n",
       "      <th>4</th>\n",
       "      <td>67086288</td>\n",
       "      <td>216.0</td>\n",
       "    </tr>\n",
       "    <tr>\n",
       "      <th>...</th>\n",
       "      <td>...</td>\n",
       "      <td>...</td>\n",
       "    </tr>\n",
       "    <tr>\n",
       "      <th>145</th>\n",
       "      <td>67106884</td>\n",
       "      <td>80.0</td>\n",
       "    </tr>\n",
       "    <tr>\n",
       "      <th>146</th>\n",
       "      <td>67107092</td>\n",
       "      <td>208.0</td>\n",
       "    </tr>\n",
       "    <tr>\n",
       "      <th>147</th>\n",
       "      <td>67107240</td>\n",
       "      <td>148.0</td>\n",
       "    </tr>\n",
       "    <tr>\n",
       "      <th>148</th>\n",
       "      <td>67107312</td>\n",
       "      <td>72.0</td>\n",
       "    </tr>\n",
       "    <tr>\n",
       "      <th>149</th>\n",
       "      <td>67107460</td>\n",
       "      <td>148.0</td>\n",
       "    </tr>\n",
       "  </tbody>\n",
       "</table>\n",
       "<p>150 rows × 2 columns</p>\n",
       "</div>"
      ],
      "text/plain": [
       "       GM风机I回   data\n",
       "0    67085640    NaN\n",
       "1    67085860  220.0\n",
       "2    67086000  140.0\n",
       "3    67086072   72.0\n",
       "4    67086288  216.0\n",
       "..        ...    ...\n",
       "145  67106884   80.0\n",
       "146  67107092  208.0\n",
       "147  67107240  148.0\n",
       "148  67107312   72.0\n",
       "149  67107460  148.0\n",
       "\n",
       "[150 rows x 2 columns]"
      ]
     },
     "execution_count": 39,
     "metadata": {},
     "output_type": "execute_result"
    }
   ],
   "source": [
    "dataset"
   ]
  },
  {
   "cell_type": "code",
   "execution_count": 40,
   "id": "isolated-copyright",
   "metadata": {},
   "outputs": [
    {
     "data": {
      "text/html": [
       "<div>\n",
       "<style scoped>\n",
       "    .dataframe tbody tr th:only-of-type {\n",
       "        vertical-align: middle;\n",
       "    }\n",
       "\n",
       "    .dataframe tbody tr th {\n",
       "        vertical-align: top;\n",
       "    }\n",
       "\n",
       "    .dataframe thead th {\n",
       "        text-align: right;\n",
       "    }\n",
       "</style>\n",
       "<table border=\"1\" class=\"dataframe\">\n",
       "  <thead>\n",
       "    <tr style=\"text-align: right;\">\n",
       "      <th></th>\n",
       "      <th>GM风机I回</th>\n",
       "      <th>data</th>\n",
       "    </tr>\n",
       "  </thead>\n",
       "  <tbody>\n",
       "    <tr>\n",
       "      <th>0</th>\n",
       "      <td>67085640</td>\n",
       "      <td>0.0</td>\n",
       "    </tr>\n",
       "    <tr>\n",
       "      <th>1</th>\n",
       "      <td>67085860</td>\n",
       "      <td>220.0</td>\n",
       "    </tr>\n",
       "    <tr>\n",
       "      <th>2</th>\n",
       "      <td>67086000</td>\n",
       "      <td>140.0</td>\n",
       "    </tr>\n",
       "    <tr>\n",
       "      <th>3</th>\n",
       "      <td>67086072</td>\n",
       "      <td>72.0</td>\n",
       "    </tr>\n",
       "    <tr>\n",
       "      <th>4</th>\n",
       "      <td>67086288</td>\n",
       "      <td>216.0</td>\n",
       "    </tr>\n",
       "    <tr>\n",
       "      <th>...</th>\n",
       "      <td>...</td>\n",
       "      <td>...</td>\n",
       "    </tr>\n",
       "    <tr>\n",
       "      <th>145</th>\n",
       "      <td>67106884</td>\n",
       "      <td>80.0</td>\n",
       "    </tr>\n",
       "    <tr>\n",
       "      <th>146</th>\n",
       "      <td>67107092</td>\n",
       "      <td>208.0</td>\n",
       "    </tr>\n",
       "    <tr>\n",
       "      <th>147</th>\n",
       "      <td>67107240</td>\n",
       "      <td>148.0</td>\n",
       "    </tr>\n",
       "    <tr>\n",
       "      <th>148</th>\n",
       "      <td>67107312</td>\n",
       "      <td>72.0</td>\n",
       "    </tr>\n",
       "    <tr>\n",
       "      <th>149</th>\n",
       "      <td>67107460</td>\n",
       "      <td>148.0</td>\n",
       "    </tr>\n",
       "  </tbody>\n",
       "</table>\n",
       "<p>150 rows × 2 columns</p>\n",
       "</div>"
      ],
      "text/plain": [
       "       GM风机I回   data\n",
       "0    67085640    0.0\n",
       "1    67085860  220.0\n",
       "2    67086000  140.0\n",
       "3    67086072   72.0\n",
       "4    67086288  216.0\n",
       "..        ...    ...\n",
       "145  67106884   80.0\n",
       "146  67107092  208.0\n",
       "147  67107240  148.0\n",
       "148  67107312   72.0\n",
       "149  67107460  148.0\n",
       "\n",
       "[150 rows x 2 columns]"
      ]
     },
     "execution_count": 40,
     "metadata": {},
     "output_type": "execute_result"
    }
   ],
   "source": [
    "dataset = dataset.fillna(0)\n",
    "dataset"
   ]
  },
  {
   "cell_type": "code",
   "execution_count": 41,
   "id": "suburban-qatar",
   "metadata": {},
   "outputs": [
    {
     "data": {
      "text/plain": [
       "[<matplotlib.lines.Line2D at 0x7fe03e30ca60>]"
      ]
     },
     "execution_count": 41,
     "metadata": {},
     "output_type": "execute_result"
    },
    {
     "data": {
      "image/png": "[encoded data removed]",
      "text/plain": [
       "<Figure size 432x288 with 1 Axes>"
      ]
     },
     "metadata": {
      "needs_background": "light"
     },
     "output_type": "display_data"
    }
   ],
   "source": [
    "plt.plot(list(range(0,150)),dataset[\"data\"],marker='o',markerfacecolor=\"r\")"
   ]
  },
  {
   "cell_type": "code",
   "execution_count": 42,
   "id": "metallic-internet",
   "metadata": {},
   "outputs": [],
   "source": [
    "#set variable\n",
    "rs = np.random.RandomState(169)\n",
    "lendata = dataset.shape[0]\n",
    "outliers_fraction = 0.02\n",
    "test_data = []\n",
    "anomaly = []"
   ]
  },
  {
   "cell_type": "code",
   "execution_count": 43,
   "id": "constitutional-bride",
   "metadata": {},
   "outputs": [],
   "source": [
    "def normalize(dataset,a,b):\n",
    "    scaler = MinMaxScaler(feature_range=(a, b))\n",
    "    normalize_data = scaler.fit_transform(dataset)\n",
    "    return normalize_data"
   ]
  },
  {
   "cell_type": "code",
   "execution_count": 44,
   "id": "great-welding",
   "metadata": {},
   "outputs": [],
   "source": [
    "#read dataset x,y\n",
    "x = normalize(pd.DataFrame(dataset, columns=[\"data\"]),-1,1)"
   ]
  },
  {
   "cell_type": "code",
   "execution_count": 45,
   "id": "surprising-airfare",
   "metadata": {},
   "outputs": [],
   "source": [
    "ifm = IsolationForest(n_estimators=100,verbose=2,n_jobs=2,max_samples=lendata,random_state=rs,max_features=1)"
   ]
  },
  {
   "cell_type": "code",
   "execution_count": 46,
   "id": "transsexual-harassment",
   "metadata": {},
   "outputs": [
    {
     "name": "stdout",
     "output_type": "stream",
     "text": [
      "Building estimator 1 of 50 for this parallel run (total 100)...\n",
      "Building estimator 1 of 50 for this parallel run (total 100)...\n",
      "Building estimator 2 of 50 for this parallel run (total 100)...Building estimator 2 of 50 for this parallel run (total 100)...\n",
      "\n",
      "Building estimator 3 of 50 for this parallel run (total 100)...Building estimator 3 of 50 for this parallel run (total 100)...\n",
      "\n",
      "Building estimator 4 of 50 for this parallel run (total 100)...\n",
      "Building estimator 4 of 50 for this parallel run (total 100)...\n",
      "Building estimator 5 of 50 for this parallel run (total 100)...Building estimator 5 of 50 for this parallel run (total 100)...\n",
      "\n",
      "Building estimator 6 of 50 for this parallel run (total 100)...Building estimator 6 of 50 for this parallel run (total 100)...\n",
      "\n",
      "Building estimator 7 of 50 for this parallel run (total 100)...Building estimator 7 of 50 for this parallel run (total 100)...\n",
      "\n",
      "Building estimator 8 of 50 for this parallel run (total 100)...Building estimator 8 of 50 for this parallel run (total 100)...\n",
      "\n",
      "Building estimator 9 of 50 for this parallel run (total 100)...Building estimator 9 of 50 for this parallel run (total 100)...\n",
      "\n",
      "Building estimator 10 of 50 for this parallel run (total 100)...Building estimator 10 of 50 for this parallel run (total 100)...\n",
      "\n",
      "Building estimator 11 of 50 for this parallel run (total 100)...Building estimator 11 of 50 for this parallel run (total 100)...\n",
      "\n",
      "Building estimator 12 of 50 for this parallel run (total 100)...Building estimator 12 of 50 for this parallel run (total 100)...\n",
      "\n",
      "Building estimator 13 of 50 for this parallel run (total 100)...Building estimator 13 of 50 for this parallel run (total 100)...\n",
      "\n",
      "Building estimator 14 of 50 for this parallel run (total 100)...Building estimator 14 of 50 for this parallel run (total 100)...\n",
      "\n",
      "Building estimator 15 of 50 for this parallel run (total 100)...Building estimator 15 of 50 for this parallel run (total 100)...\n",
      "\n",
      "Building estimator 16 of 50 for this parallel run (total 100)...Building estimator 16 of 50 for this parallel run (total 100)...\n",
      "\n",
      "Building estimator 17 of 50 for this parallel run (total 100)...Building estimator 17 of 50 for this parallel run (total 100)...\n",
      "\n",
      "Building estimator 18 of 50 for this parallel run (total 100)...Building estimator 18 of 50 for this parallel run (total 100)...\n",
      "\n",
      "Building estimator 19 of 50 for this parallel run (total 100)...Building estimator 19 of 50 for this parallel run (total 100)...\n",
      "\n",
      "Building estimator 20 of 50 for this parallel run (total 100)...Building estimator 20 of 50 for this parallel run (total 100)...\n",
      "\n",
      "Building estimator 21 of 50 for this parallel run (total 100)...Building estimator 21 of 50 for this parallel run (total 100)...\n",
      "\n",
      "Building estimator 22 of 50 for this parallel run (total 100)...Building estimator 22 of 50 for this parallel run (total 100)...\n",
      "\n",
      "Building estimator 23 of 50 for this parallel run (total 100)...\n",
      "Building estimator 23 of 50 for this parallel run (total 100)...Building estimator 24 of 50 for this parallel run (total 100)...\n",
      "\n",
      "Building estimator 25 of 50 for this parallel run (total 100)...Building estimator 24 of 50 for this parallel run (total 100)...\n",
      "\n",
      "Building estimator 25 of 50 for this parallel run (total 100)...Building estimator 26 of 50 for this parallel run (total 100)...\n",
      "\n",
      "Building estimator 27 of 50 for this parallel run (total 100)...Building estimator 26 of 50 for this parallel run (total 100)...\n",
      "\n",
      "Building estimator 28 of 50 for this parallel run (total 100)...Building estimator 27 of 50 for this parallel run (total 100)...\n",
      "\n",
      "Building estimator 28 of 50 for this parallel run (total 100)...Building estimator 29 of 50 for this parallel run (total 100)...\n",
      "\n",
      "Building estimator 29 of 50 for this parallel run (total 100)...Building estimator 30 of 50 for this parallel run (total 100)...\n",
      "\n",
      "Building estimator 30 of 50 for this parallel run (total 100)...Building estimator 31 of 50 for this parallel run (total 100)...\n",
      "\n",
      "Building estimator 31 of 50 for this parallel run (total 100)...Building estimator 32 of 50 for this parallel run (total 100)...\n",
      "\n",
      "Building estimator 33 of 50 for this parallel run (total 100)...Building estimator 32 of 50 for this parallel run (total 100)...\n",
      "\n",
      "Building estimator 34 of 50 for this parallel run (total 100)...Building estimator 33 of 50 for this parallel run (total 100)...\n",
      "\n",
      "Building estimator 34 of 50 for this parallel run (total 100)...Building estimator 35 of 50 for this parallel run (total 100)...\n",
      "\n",
      "Building estimator 36 of 50 for this parallel run (total 100)...Building estimator 35 of 50 for this parallel run (total 100)...\n",
      "\n",
      "Building estimator 36 of 50 for this parallel run (total 100)...Building estimator 37 of 50 for this parallel run (total 100)...\n",
      "\n",
      "Building estimator 38 of 50 for this parallel run (total 100)...Building estimator 37 of 50 for this parallel run (total 100)...\n",
      "\n",
      "Building estimator 39 of 50 for this parallel run (total 100)...Building estimator 38 of 50 for this parallel run (total 100)...\n",
      "\n",
      "Building estimator 39 of 50 for this parallel run (total 100)...Building estimator 40 of 50 for this parallel run (total 100)...\n",
      "\n",
      "Building estimator 41 of 50 for this parallel run (total 100)...Building estimator 40 of 50 for this parallel run (total 100)...\n",
      "\n",
      "Building estimator 41 of 50 for this parallel run (total 100)...Building estimator 42 of 50 for this parallel run (total 100)...\n",
      "\n",
      "Building estimator 42 of 50 for this parallel run (total 100)...Building estimator 43 of 50 for this parallel run (total 100)...\n",
      "\n",
      "Building estimator 43 of 50 for this parallel run (total 100)...Building estimator 44 of 50 for this parallel run (total 100)...\n",
      "\n",
      "Building estimator 45 of 50 for this parallel run (total 100)...Building estimator 44 of 50 for this parallel run (total 100)...\n",
      "\n",
      "Building estimator 46 of 50 for this parallel run (total 100)...Building estimator 45 of 50 for this parallel run (total 100)...\n",
      "\n",
      "Building estimator 47 of 50 for this parallel run (total 100)...Building estimator 46 of 50 for this parallel run (total 100)...\n",
      "\n",
      "Building estimator 47 of 50 for this parallel run (total 100)...Building estimator 48 of 50 for this parallel run (total 100)...\n",
      "\n",
      "Building estimator 48 of 50 for this parallel run (total 100)...Building estimator 49 of 50 for this parallel run (total 100)...\n",
      "\n",
      "Building estimator 49 of 50 for this parallel run (total 100)...Building estimator 50 of 50 for this parallel run (total 100)...\n",
      "\n",
      "Building estimator 50 of 50 for this parallel run (total 100)...\n"
     ]
    },
    {
     "name": "stderr",
     "output_type": "stream",
     "text": [
      "[Parallel(n_jobs=2)]: Using backend ThreadingBackend with 2 concurrent workers.\n",
      "[Parallel(n_jobs=2)]: Done   2 out of   2 | elapsed:    0.2s finished\n"
     ]
    },
    {
     "data": {
      "text/plain": [
       "IsolationForest(max_features=1, max_samples=150, n_jobs=2,\n",
       "                random_state=RandomState(MT19937) at 0x7FE03DFF4040, verbose=2)"
      ]
     },
     "execution_count": 46,
     "metadata": {},
     "output_type": "execute_result"
    }
   ],
   "source": [
    "ifm.fit(x)"
   ]
  },
  {
   "cell_type": "code",
   "execution_count": 47,
   "id": "wireless-measurement",
   "metadata": {},
   "outputs": [],
   "source": [
    "scores_pred = ifm.decision_function(x)"
   ]
  },
  {
   "cell_type": "code",
   "execution_count": 48,
   "id": "weekly-posting",
   "metadata": {},
   "outputs": [
    {
     "data": {
      "text/plain": [
       "array([-0.26840029,  0.0285324 ,  0.01364628,  0.02576075,  0.03327316,\n",
       "        0.02576075, -0.00259288, -0.08722587, -0.06219495, -0.08722587,\n",
       "       -0.26840029, -0.28883211, -0.06219495, -0.04369336, -0.08084472,\n",
       "        0.01364628,  0.03327316,  0.02359386,  0.02062558,  0.0285324 ,\n",
       "        0.02062558,  0.0285324 ,  0.02062558, -0.00259288,  0.0285324 ,\n",
       "        0.01364628,  0.02576075,  0.03327316,  0.02576075,  0.02359386,\n",
       "       -0.04369336, -0.00259288,  0.02576075,  0.03327316,  0.01364628,\n",
       "       -0.06219495,  0.01364628,  0.03327316,  0.02359386,  0.02359386,\n",
       "        0.02576075,  0.03327316,  0.02576075,  0.0285324 ,  0.02062558,\n",
       "        0.0285324 ,  0.02062558,  0.0285324 ,  0.02062558,  0.0285324 ,\n",
       "        0.02062558,  0.0285324 ,  0.02062558, -0.04369336, -0.08084472,\n",
       "       -0.04369336, -0.26840029, -0.28883211, -0.06219495, -0.08722587,\n",
       "       -0.00259288,  0.01364628, -0.06219495, -0.04369336, -0.08084472,\n",
       "        0.01364628,  0.03327316,  0.02576075,  0.0285324 ,  0.02062558,\n",
       "        0.0285324 ,  0.02062558,  0.01364628,  0.0285324 , -0.00259288,\n",
       "        0.02062558,  0.02359386,  0.03327316,  0.01364628, -0.00259288,\n",
       "        0.0285324 ,  0.02062558,  0.0285324 ,  0.02062558,  0.0285324 ,\n",
       "        0.01364628,  0.02062558,  0.0285324 ,  0.02576075,  0.02359386,\n",
       "        0.02359386,  0.03327316,  0.01364628,  0.0285324 ,  0.02062558,\n",
       "       -0.00259288,  0.0285324 ,  0.01364628,  0.03327316,  0.02576075,\n",
       "        0.03327316,  0.02359386,  0.02359386,  0.02359386,  0.02062558,\n",
       "        0.0285324 ,  0.02062558,  0.0285324 , -0.00259288,  0.02062558,\n",
       "        0.0285324 ,  0.02062558,  0.02359386,  0.03327316,  0.01364628,\n",
       "       -0.08084472,  0.02359386,  0.03327316,  0.01364628,  0.0285324 ,\n",
       "        0.02062558,  0.0285324 , -0.00259288,  0.01364628,  0.02576075,\n",
       "        0.03327316,  0.02576075,  0.02359386, -0.04369336, -0.00259288,\n",
       "        0.01364628, -0.00259288,  0.02576075,  0.03327316,  0.02576075,\n",
       "       -0.00259288,  0.01364628,  0.03327316,  0.02359386,  0.02359386,\n",
       "        0.02359386,  0.03327316,  0.01364628, -0.06219495, -0.08722587,\n",
       "       -0.06219495, -0.08722587, -0.00259288,  0.02576075, -0.00259288])"
      ]
     },
     "execution_count": 48,
     "metadata": {},
     "output_type": "execute_result"
    }
   ],
   "source": [
    "scores_pred"
   ]
  },
  {
   "cell_type": "code",
   "execution_count": 49,
   "id": "sharing-emerald",
   "metadata": {},
   "outputs": [],
   "source": [
    "threshold = stats.scoreatpercentile(scores_pred, 100 * outliers_fraction)"
   ]
  },
  {
   "cell_type": "code",
   "execution_count": 50,
   "id": "great-terror",
   "metadata": {},
   "outputs": [
    {
     "data": {
      "text/plain": [
       "-0.2684002894802058"
      ]
     },
     "execution_count": 50,
     "metadata": {},
     "output_type": "execute_result"
    }
   ],
   "source": [
    "threshold"
   ]
  },
  {
   "cell_type": "code",
   "execution_count": 51,
   "id": "incorporate-situation",
   "metadata": {},
   "outputs": [
    {
     "data": {
      "text/html": [
       "<div>\n",
       "<style scoped>\n",
       "    .dataframe tbody tr th:only-of-type {\n",
       "        vertical-align: middle;\n",
       "    }\n",
       "\n",
       "    .dataframe tbody tr th {\n",
       "        vertical-align: top;\n",
       "    }\n",
       "\n",
       "    .dataframe thead th {\n",
       "        text-align: right;\n",
       "    }\n",
       "</style>\n",
       "<table border=\"1\" class=\"dataframe\">\n",
       "  <thead>\n",
       "    <tr style=\"text-align: right;\">\n",
       "      <th></th>\n",
       "      <th>GM风机I回</th>\n",
       "      <th>data</th>\n",
       "    </tr>\n",
       "  </thead>\n",
       "  <tbody>\n",
       "    <tr>\n",
       "      <th>0</th>\n",
       "      <td>67085640</td>\n",
       "      <td>0.0</td>\n",
       "    </tr>\n",
       "    <tr>\n",
       "      <th>1</th>\n",
       "      <td>67085860</td>\n",
       "      <td>220.0</td>\n",
       "    </tr>\n",
       "    <tr>\n",
       "      <th>2</th>\n",
       "      <td>67086000</td>\n",
       "      <td>140.0</td>\n",
       "    </tr>\n",
       "    <tr>\n",
       "      <th>3</th>\n",
       "      <td>67086072</td>\n",
       "      <td>72.0</td>\n",
       "    </tr>\n",
       "    <tr>\n",
       "      <th>4</th>\n",
       "      <td>67086288</td>\n",
       "      <td>216.0</td>\n",
       "    </tr>\n",
       "    <tr>\n",
       "      <th>...</th>\n",
       "      <td>...</td>\n",
       "      <td>...</td>\n",
       "    </tr>\n",
       "    <tr>\n",
       "      <th>145</th>\n",
       "      <td>67106884</td>\n",
       "      <td>80.0</td>\n",
       "    </tr>\n",
       "    <tr>\n",
       "      <th>146</th>\n",
       "      <td>67107092</td>\n",
       "      <td>208.0</td>\n",
       "    </tr>\n",
       "    <tr>\n",
       "      <th>147</th>\n",
       "      <td>67107240</td>\n",
       "      <td>148.0</td>\n",
       "    </tr>\n",
       "    <tr>\n",
       "      <th>148</th>\n",
       "      <td>67107312</td>\n",
       "      <td>72.0</td>\n",
       "    </tr>\n",
       "    <tr>\n",
       "      <th>149</th>\n",
       "      <td>67107460</td>\n",
       "      <td>148.0</td>\n",
       "    </tr>\n",
       "  </tbody>\n",
       "</table>\n",
       "<p>150 rows × 2 columns</p>\n",
       "</div>"
      ],
      "text/plain": [
       "       GM风机I回   data\n",
       "0    67085640    0.0\n",
       "1    67085860  220.0\n",
       "2    67086000  140.0\n",
       "3    67086072   72.0\n",
       "4    67086288  216.0\n",
       "..        ...    ...\n",
       "145  67106884   80.0\n",
       "146  67107092  208.0\n",
       "147  67107240  148.0\n",
       "148  67107312   72.0\n",
       "149  67107460  148.0\n",
       "\n",
       "[150 rows x 2 columns]"
      ]
     },
     "execution_count": 51,
     "metadata": {},
     "output_type": "execute_result"
    }
   ],
   "source": [
    "dataset"
   ]
  },
  {
   "cell_type": "code",
   "execution_count": 52,
   "id": "veterinary-weapon",
   "metadata": {},
   "outputs": [
    {
     "data": {
      "image/png": "[encoded data removed]",
      "text/plain": [
       "<Figure size 432x288 with 1 Axes>"
      ]
     },
     "metadata": {
      "needs_background": "light"
     },
     "output_type": "display_data"
    }
   ],
   "source": [
    "plt.title(\"IsolationForest \")\n",
    "for i in scores_pred:\n",
    "    if i <= threshold:\n",
    "        #print(i)\n",
    "        test_data.append(1)\n",
    "        anomaly.append(i)\n",
    "    else:\n",
    "        test_data.append(0)\n",
    "        \n",
    "ano_lable = np.column_stack(((dataset['GM风机I回'],dataset['data'],x,scores_pred, test_data)))\n",
    "df = pd.DataFrame(data=ano_lable, columns=['GM风机I回','data','x', 'IsoFst_Score','label'])\n",
    "\n",
    "b = plt.scatter(list(range(0,145)),df['x'][df['label'] == 0], s=20, edgecolor='k',c='white')\n",
    "c = plt.scatter(list(range(0,5)),df['x'][df['label'] == 1], s=20, edgecolor='k',c='black')"
   ]
  },
  {
   "cell_type": "code",
   "execution_count": 53,
   "id": "peaceful-complaint",
   "metadata": {},
   "outputs": [],
   "source": [
    "ano_lable = np.column_stack(((df['GM风机I回'],df['data'],x,scores_pred, test_data)))"
   ]
  },
  {
   "cell_type": "code",
   "execution_count": 54,
   "id": "brief-ending",
   "metadata": {},
   "outputs": [],
   "source": [
    "df = pd.DataFrame(data=ano_lable, columns=['GM风机I回','data','x', 'IsoFst_Score','label'])"
   ]
  },
  {
   "cell_type": "code",
   "execution_count": 55,
   "id": "united-balloon",
   "metadata": {},
   "outputs": [
    {
     "data": {
      "text/html": [
       "<div>\n",
       "<style scoped>\n",
       "    .dataframe tbody tr th:only-of-type {\n",
       "        vertical-align: middle;\n",
       "    }\n",
       "\n",
       "    .dataframe tbody tr th {\n",
       "        vertical-align: top;\n",
       "    }\n",
       "\n",
       "    .dataframe thead th {\n",
       "        text-align: right;\n",
       "    }\n",
       "</style>\n",
       "<table border=\"1\" class=\"dataframe\">\n",
       "  <thead>\n",
       "    <tr style=\"text-align: right;\">\n",
       "      <th></th>\n",
       "      <th>GM风机I回</th>\n",
       "      <th>data</th>\n",
       "      <th>x</th>\n",
       "      <th>IsoFst_Score</th>\n",
       "      <th>label</th>\n",
       "    </tr>\n",
       "  </thead>\n",
       "  <tbody>\n",
       "    <tr>\n",
       "      <th>0</th>\n",
       "      <td>67085640.0</td>\n",
       "      <td>0.0</td>\n",
       "      <td>-1.000000</td>\n",
       "      <td>-0.268400</td>\n",
       "      <td>1.0</td>\n",
       "    </tr>\n",
       "    <tr>\n",
       "      <th>1</th>\n",
       "      <td>67085860.0</td>\n",
       "      <td>220.0</td>\n",
       "      <td>0.527778</td>\n",
       "      <td>0.028532</td>\n",
       "      <td>0.0</td>\n",
       "    </tr>\n",
       "    <tr>\n",
       "      <th>2</th>\n",
       "      <td>67086000.0</td>\n",
       "      <td>140.0</td>\n",
       "      <td>-0.027778</td>\n",
       "      <td>0.013646</td>\n",
       "      <td>0.0</td>\n",
       "    </tr>\n",
       "    <tr>\n",
       "      <th>3</th>\n",
       "      <td>67086072.0</td>\n",
       "      <td>72.0</td>\n",
       "      <td>-0.500000</td>\n",
       "      <td>0.025761</td>\n",
       "      <td>0.0</td>\n",
       "    </tr>\n",
       "    <tr>\n",
       "      <th>4</th>\n",
       "      <td>67086288.0</td>\n",
       "      <td>216.0</td>\n",
       "      <td>0.500000</td>\n",
       "      <td>0.033273</td>\n",
       "      <td>0.0</td>\n",
       "    </tr>\n",
       "    <tr>\n",
       "      <th>...</th>\n",
       "      <td>...</td>\n",
       "      <td>...</td>\n",
       "      <td>...</td>\n",
       "      <td>...</td>\n",
       "      <td>...</td>\n",
       "    </tr>\n",
       "    <tr>\n",
       "      <th>145</th>\n",
       "      <td>67106884.0</td>\n",
       "      <td>80.0</td>\n",
       "      <td>-0.444444</td>\n",
       "      <td>-0.062195</td>\n",
       "      <td>0.0</td>\n",
       "    </tr>\n",
       "    <tr>\n",
       "      <th>146</th>\n",
       "      <td>67107092.0</td>\n",
       "      <td>208.0</td>\n",
       "      <td>0.444444</td>\n",
       "      <td>-0.087226</td>\n",
       "      <td>0.0</td>\n",
       "    </tr>\n",
       "    <tr>\n",
       "      <th>147</th>\n",
       "      <td>67107240.0</td>\n",
       "      <td>148.0</td>\n",
       "      <td>0.027778</td>\n",
       "      <td>-0.002593</td>\n",
       "      <td>0.0</td>\n",
       "    </tr>\n",
       "    <tr>\n",
       "      <th>148</th>\n",
       "      <td>67107312.0</td>\n",
       "      <td>72.0</td>\n",
       "      <td>-0.500000</td>\n",
       "      <td>0.025761</td>\n",
       "      <td>0.0</td>\n",
       "    </tr>\n",
       "    <tr>\n",
       "      <th>149</th>\n",
       "      <td>67107460.0</td>\n",
       "      <td>148.0</td>\n",
       "      <td>0.027778</td>\n",
       "      <td>-0.002593</td>\n",
       "      <td>0.0</td>\n",
       "    </tr>\n",
       "  </tbody>\n",
       "</table>\n",
       "<p>150 rows × 5 columns</p>\n",
       "</div>"
      ],
      "text/plain": [
       "         GM风机I回   data         x  IsoFst_Score  label\n",
       "0    67085640.0    0.0 -1.000000     -0.268400    1.0\n",
       "1    67085860.0  220.0  0.527778      0.028532    0.0\n",
       "2    67086000.0  140.0 -0.027778      0.013646    0.0\n",
       "3    67086072.0   72.0 -0.500000      0.025761    0.0\n",
       "4    67086288.0  216.0  0.500000      0.033273    0.0\n",
       "..          ...    ...       ...           ...    ...\n",
       "145  67106884.0   80.0 -0.444444     -0.062195    0.0\n",
       "146  67107092.0  208.0  0.444444     -0.087226    0.0\n",
       "147  67107240.0  148.0  0.027778     -0.002593    0.0\n",
       "148  67107312.0   72.0 -0.500000      0.025761    0.0\n",
       "149  67107460.0  148.0  0.027778     -0.002593    0.0\n",
       "\n",
       "[150 rows x 5 columns]"
      ]
     },
     "execution_count": 55,
     "metadata": {},
     "output_type": "execute_result"
    }
   ],
   "source": [
    "df"
   ]
  },
  {
   "cell_type": "code",
   "execution_count": 56,
   "id": "infrared-sister",
   "metadata": {},
   "outputs": [
    {
     "data": {
      "image/png": "[encoded data removed]",
      "text/plain": [
       "<Figure size 432x288 with 1 Axes>"
      ]
     },
     "metadata": {
      "needs_background": "light"
     },
     "output_type": "display_data"
    }
   ],
   "source": [
    "c = plt.scatter(list(range(0,5)),df['x'][df['label'] == 1], s=20, edgecolor='k',c='black')"
   ]
  },
  {
   "cell_type": "code",
   "execution_count": 57,
   "id": "major-tissue",
   "metadata": {},
   "outputs": [
    {
     "name": "stdout",
     "output_type": "stream",
     "text": [
      "孤立森林阈值  ： -0.2684002894802058\n",
      "全量数据样本数： 150 个\n",
      "检测异常样本数： 5 个\n"
     ]
    }
   ],
   "source": [
    "print(\"孤立森林阈值  ：\",threshold)\n",
    "print(\"全量数据样本数：\",len(dataset),\"个\")\n",
    "print(\"检测异常样本数：\",len(anomaly),\"个\")"
   ]
  },
  {
   "cell_type": "code",
   "execution_count": null,
   "id": "romance-belle",
   "metadata": {},
   "outputs": [],
   "source": []
  }
 ],
 "metadata": {
  "kernelspec": {
   "display_name": "Python 3",
   "language": "python",
   "name": "python3"
  },
  "language_info": {
   "codemirror_mode": {
    "name": "ipython",
    "version": 3
   },
   "file_extension": ".py",
   "mimetype": "text/x-python",
   "name": "python",
   "nbconvert_exporter": "python",
   "pygments_lexer": "ipython3",
   "version": "3.8.5"
  }
 },
 "nbformat": 4,
 "nbformat_minor": 5
}
